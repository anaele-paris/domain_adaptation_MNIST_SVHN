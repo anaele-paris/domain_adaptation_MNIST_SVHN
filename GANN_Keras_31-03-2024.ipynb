{
 "cells": [
  {
   "cell_type": "markdown",
   "metadata": {},
   "source": [
    "**MNIST/SVHN - DOMAIN ADAPTATION <br>\n",
    "(version KERAS)**\n",
    "---\n",
    "PROJET COMPUTER VISION"
   ]
  },
  {
   "cell_type": "code",
   "execution_count": 34,
   "metadata": {},
   "outputs": [],
   "source": [
    "# prerequisites\n",
    "import torch\n",
    "import torch.nn as nn\n",
    "import torch.nn.functional as F\n",
    "import torch.optim as optim\n",
    "from torchvision import datasets, transforms\n",
    "from torch.autograd import Variable\n",
    "from torchvision.utils import save_image\n",
    "\n",
    "import matplotlib.pyplot as plt\n",
    "import IPython.display\n",
    "import numpy as np\n",
    "import pandas as pd\n",
    "import seaborn as sns\n",
    "\n",
    "from PIL import Image\n"
   ]
  },
  {
   "cell_type": "markdown",
   "metadata": {},
   "source": [
    " ## MNIST dataset\n",
    "\n",
    "The mnist dataset provided in python contains 70 000 labelled images of handwritten digits (possible labels: from 0 to 9), with 60 000 training examples and 10 000 test examples. Each example is an image represented by a matrix of size an array of 784 elements (this is the flattened version of the 28x28 image)."
   ]
  },
  {
   "cell_type": "code",
   "execution_count": 35,
   "metadata": {},
   "outputs": [
    {
     "name": "stdout",
     "output_type": "stream",
     "text": [
      "train_dataset structure ['__add__', '__annotations__', '__class__', '__class_getitem__', '__delattr__', '__dict__', '__dir__', '__doc__', '__eq__', '__format__', '__ge__', '__getattribute__', '__getitem__', '__gt__', '__hash__', '__init__', '__init_subclass__', '__le__', '__len__', '__lt__', '__module__', '__ne__', '__new__', '__orig_bases__', '__parameters__', '__reduce__', '__reduce_ex__', '__repr__', '__setattr__', '__sizeof__', '__slots__', '__str__', '__subclasshook__', '__weakref__', '_check_exists', '_check_legacy_exist', '_format_transform_repr', '_is_protocol', '_load_data', '_load_legacy_data', '_repr_indent', 'class_to_idx', 'classes', 'data', 'download', 'extra_repr', 'mirrors', 'processed_folder', 'raw_folder', 'resources', 'root', 'target_transform', 'targets', 'test_data', 'test_file', 'test_labels', 'train', 'train_data', 'train_labels', 'training_file', 'transform', 'transforms']\n"
     ]
    }
   ],
   "source": [
    "# MNIST Dataset\n",
    "train_dataset = datasets.MNIST(root='./mnist_data/', train=True, transform=transforms.ToTensor(), download=True)\n",
    "test_dataset = datasets.MNIST(root='./mnist_data/', train=False, transform=transforms.ToTensor(), download=True)\n",
    "\n",
    "# print directories in dataset\n",
    "print('train_dataset structure',dir(train_dataset))\n",
    "\n",
    "# Data Loader (Input Pipeline)\n",
    "bs = 100 # batch size\n",
    "train_loader = torch.utils.data.DataLoader(dataset=train_dataset, batch_size=bs, shuffle=True)\n",
    "test_loader = torch.utils.data.DataLoader(dataset=test_dataset, batch_size=bs, shuffle=False)"
   ]
  },
  {
   "cell_type": "code",
   "execution_count": 36,
   "metadata": {},
   "outputs": [
    {
     "name": "stdout",
     "output_type": "stream",
     "text": [
      "train_dataset length: 60000 <class 'torchvision.datasets.mnist.MNIST'>\n",
      "test_dataset length: 10000 <class 'torchvision.datasets.mnist.MNIST'>\n",
      "images shape: torch.Size([1, 28, 28]) <class 'torch.Tensor'>\n",
      "labels: tensor([0, 1, 2, 3, 4, 5, 6, 7, 8, 9]) <class 'int'>\n"
     ]
    }
   ],
   "source": [
    "# DATASET STRUCTURE\n",
    "print('train_dataset length:',len(train_dataset),type(train_dataset))\n",
    "print('test_dataset length:',len(test_dataset),type(test_dataset))\n",
    "print('images shape:',train_dataset[0][0].shape, type(train_dataset[0][0]))\n",
    "labels = torch.unique(train_dataset.targets)\n",
    "print('labels:', labels,type(train_dataset[0][1]))"
   ]
  },
  {
   "cell_type": "code",
   "execution_count": null,
   "metadata": {},
   "outputs": [],
   "source": []
  },
  {
   "cell_type": "code",
   "execution_count": null,
   "metadata": {},
   "outputs": [],
   "source": []
  },
  {
   "cell_type": "code",
   "execution_count": null,
   "metadata": {},
   "outputs": [],
   "source": []
  },
  {
   "cell_type": "markdown",
   "metadata": {},
   "source": [
    "**0/ Data exploration of MNIST and SVHN (numpy arrays)**\n",
    "---"
   ]
  },
  {
   "cell_type": "code",
   "execution_count": 37,
   "metadata": {},
   "outputs": [
    {
     "name": "stdout",
     "output_type": "stream",
     "text": [
      "Xs_train _test: (60000, 28, 28) (10000, 28, 28) <class 'numpy.ndarray'>\n",
      "Ys_train _test: (60000, 10) (10000, 10) <class 'numpy.ndarray'>\n",
      "Xt_train _test: (73257, 28, 28) (26032, 28, 28) <class 'numpy.ndarray'>\n",
      "Yt_train _test: (73257, 10) (26032, 10) <class 'numpy.ndarray'>\n"
     ]
    }
   ],
   "source": [
    "##################################################################\n",
    "# DOWNLOADING DATA AND RESCALING SVHN TO MNIST SIZE\n",
    "################################################################## \n",
    "\n",
    "import tensorflow as tf\n",
    "import tensorflow_datasets as tfds\n",
    "from tensorflow.keras.datasets import mnist\n",
    "from tensorflow.keras.utils import to_categorical\n",
    "\n",
    "from PIL import Image\n",
    "\n",
    "# Load MNIST data\n",
    "#------------------------------------------\n",
    "\n",
    "# Xs ans Ys as X and Y from source domain\n",
    "(Xs_train, Ys_train), (Xs_test, Ys_test) = mnist.load_data()\n",
    "\n",
    "# Flatten and normalize the image data and convert labels to categorical (one-hot encoding)\n",
    "Xs_train = Xs_train.astype('float32') / 255\n",
    "Xs_test = Xs_test.astype('float32') / 255\n",
    "Ys_train_cat = to_categorical(Ys_train, num_classes=10)\n",
    "Ys_test_cat = to_categorical(Ys_test, num_classes=10)\n",
    "\n",
    "# Load SVHN data\n",
    "#------------------------------------------\n",
    "\n",
    "# Load the SVHN dataset directly as NumPy arrays\n",
    "svhn_train, svhn_test = tfds.as_numpy(tfds.load('svhn_cropped', split=['train', 'test'], batch_size=-1, as_supervised=True))\n",
    "\n",
    "# Extract images and labels\n",
    "Xt_train, Yt_train = svhn_train\n",
    "Xt_test, Yt_test = svhn_test\n",
    "\n",
    "def preprocess_svhn_np(image):\n",
    "    '''Function to resize and convert a single image to grayscale.\n",
    "    Input: image of size 32x32x3 (HxWxC) in NumPy array format.\n",
    "    Output: image of size 28x28, as a NumPy array.''' \n",
    "    image_pil = Image.fromarray(image)  # Convert to PIL Image for processing\n",
    "    image_gray = image_pil.convert(\"L\") # Convert to grayscale   \n",
    "    image_resized = image_gray.resize((28, 28), Image.Resampling.LANCZOS) # Resize to 28x28\n",
    "    image_np = np.array(image_resized, dtype=np.float32) / 255.0 # Convert back to NumPy array and normalize\n",
    "    return image_np  # Ensure the shape is (28, 28)\n",
    "\n",
    "# Applying the preprocessing function to each image in X_train\n",
    "Xt_train = np.array([preprocess_svhn_np(image) for image in Xt_train])\n",
    "Xt_test = np.array([preprocess_svhn_np(image) for image in Xt_test])\n",
    "\n",
    "# Convert labels to one-hot encoding\n",
    "Yt_train_cat = to_categorical(Yt_train, num_classes=10)\n",
    "Yt_test_cat = to_categorical(Yt_test, num_classes=10)\n",
    "\n",
    "# Check dimensions before training\n",
    "print('Xs_train _test:',Xs_train.shape,Xs_test.shape ,type(Xs_train))\n",
    "print('Ys_train _test:',Ys_train_cat.shape,Ys_test_cat.shape, type(Ys_train))\n",
    "print('Xt_train _test:',Xt_train.shape,Xt_test.shape, type(Xt_train)) \n",
    "print('Yt_train _test:',Yt_train_cat.shape,Yt_test_cat.shape, type(Yt_train))"
   ]
  },
  {
   "cell_type": "code",
   "execution_count": 38,
   "metadata": {},
   "outputs": [
    {
     "data": {
      "image/png": "[encoded data removed]",
      "text/plain": [
       "<Figure size 640x480 with 1 Axes>"
      ]
     },
     "metadata": {},
     "output_type": "display_data"
    },
    {
     "name": "stdout",
     "output_type": "stream",
     "text": [
      "weights_source: [10.1  8.9 10.1  9.8 10.3 11.1 10.1  9.6 10.3 10.1]\n",
      "weights_target (for information only): [14.8  5.3  6.9  8.6  9.8 10.6 12.8 13.1 14.5 15.7]\n"
     ]
    }
   ],
   "source": [
    "#######################################################\n",
    "# CHECKING DISTRIBUTION OF LABELS IN SOURCE AND TARGET\n",
    "#######################################################\n",
    "\n",
    "# Plotting the distribution of labels in the source and target domains\n",
    "plt.hist(Ys_train, bins=range(11), alpha=0.5, label='MNIST (source)')\n",
    "plt.hist(Yt_train, bins=range(11), alpha=0.5, label='SVHN (target)')\n",
    "plt.xlabel('Digit')\n",
    "plt.xticks(range(10))\n",
    "plt.ylabel('Frequency')\n",
    "plt.legend()\n",
    "plt.title('Label distribution in source and target domains')\n",
    "plt.show()\n",
    "\n",
    "# calculating the weights for the loss function\n",
    "# MNIST (source domain)\n",
    "label_frequency_source = np.bincount(Ys_train) / len(Ys_train)\n",
    "weights_source = 1 / label_frequency_source\n",
    "print('weights_source:',np.round(weights_source,1))\n",
    "# SVHN (target domain)\n",
    "label_frequency_target = np.bincount(Yt_train) / len(Yt_train)\n",
    "weights_target = 1 / label_frequency_target\n",
    "print('weights_target (for information only):',np.round(weights_target,1))\n",
    "\n",
    "# !!!!!!!!!!!!!!!!!!!!!!!!!!!!!!!!!!!!!!!!!!!!!!!!!!!!!!!!!!\n",
    "# target domain is very imbalanced, HOWEVER we are not supposed to know the labels of the target domain\n",
    "# 1/ GAN does not deal with this\n",
    "# 2/ semi-supervised GAN (with pseudo labels on SVHN when high confidence) will adress this issue"
   ]
  },
  {
   "cell_type": "code",
   "execution_count": 39,
   "metadata": {},
   "outputs": [
    {
     "name": "stdout",
     "output_type": "stream",
     "text": [
      "Ys_test: [ 980 1135 1032 1010  982  892  958 1028  974 1009] total 10000\n",
      "Yt_test: [1744 5099 4149 2882 2523 2384 1977 2019 1660 1595] total 26032\n"
     ]
    }
   ],
   "source": [
    "# number of samples per label in the test set\n",
    "print('Ys_test:',np.bincount(Ys_test), 'total', len(Ys_test))\n",
    "print('Yt_test:',np.bincount(Yt_test), 'total', len(Yt_test))"
   ]
  },
  {
   "cell_type": "markdown",
   "metadata": {},
   "source": [
    "**1/ ADVERSARIAL NEURAL NETWORK (KERAS), downsizing SVHN to MNIST dimensions (28,28,)**\n",
    "---\n",
    "\"Domain-Adversarial Training of Neural Networks\" Ganin & al, Journal of Machine Learning Research 17 (2016) 1-35"
   ]
  },
  {
   "cell_type": "code",
   "execution_count": 40,
   "metadata": {},
   "outputs": [],
   "source": [
    "import tensorflow as tf\n",
    "from tensorflow.keras.layers import Input, Dense, Dropout, Layer\n",
    "from tensorflow.keras.models import Model\n",
    "from tensorflow.keras.optimizers import Adam\n",
    "from tensorflow.keras.losses import BinaryCrossentropy , CategoricalCrossentropy\n",
    "from tensorflow.keras.metrics import AUC\n",
    "from tensorflow.keras.utils import to_categorical\n",
    "\n",
    "from tensorflow.keras.datasets import mnist\n",
    "import tensorflow_datasets as tfds"
   ]
  },
  {
   "cell_type": "code",
   "execution_count": 41,
   "metadata": {},
   "outputs": [],
   "source": [
    "def extract_X_Y(dataset):\n",
    "    \"\"\"\n",
    "    Extracts features and labels from an unbatched TensorFlow dataset.\n",
    "    \n",
    "    Parameters:\n",
    "    - dataset: A tf.data.Dataset object containing (features, labels) pairs.\n",
    "    \n",
    "    Returns:\n",
    "    - X: A tensor containing all the features from the dataset.\n",
    "    - Y: A tensor containing all the labels from the dataset.\n",
    "    \"\"\"\n",
    "    # Initialize lists to hold the features and labels\n",
    "    features_list = []\n",
    "    labels_list = []\n",
    "\n",
    "    # Iterate over the dataset to collect features and labels\n",
    "    for features, labels in dataset:\n",
    "        features_list.append(features.numpy())\n",
    "        labels_list.append(labels.numpy())\n",
    "\n",
    "    # Convert lists to numpy arrays\n",
    "    features_array = np.array(features_list)\n",
    "    labels_array = np.array(labels_list)\n",
    "\n",
    "    # Convert numpy arrays to tensors\n",
    "    Xt = tf.convert_to_tensor(features_array, dtype=tf.float32)\n",
    "    Yt = tf.convert_to_tensor(labels_array, dtype=tf.int64)\n",
    "\n",
    "    return Xt, Yt\n"
   ]
  },
  {
   "cell_type": "code",
   "execution_count": 42,
   "metadata": {},
   "outputs": [
    {
     "name": "stdout",
     "output_type": "stream",
     "text": [
      "Xs_train _test: (60000, 28, 28, 1) (9984, 28, 28, 1) <class 'tensorflow.python.framework.ops.EagerTensor'>\n",
      "Ys_train_cat _test_cat: (60000, 10) (9984, 10) <class 'tensorflow.python.framework.ops.EagerTensor'>\n",
      "Xt_train _test: (73248, 28, 28, 1) (26016, 28, 28, 1) <class 'tensorflow.python.framework.ops.EagerTensor'>\n",
      "Yt_train _test: (73248, 10) (26016, 10) <class 'tensorflow.python.framework.ops.EagerTensor'>\n"
     ]
    }
   ],
   "source": [
    "##################################################################\n",
    "# DOWNLOADING DATA AND RESCALING SVHN TO MNIST SIZE\n",
    "################################################################## \n",
    "\n",
    "#------------------------------------------\n",
    "# Define batch size\n",
    "#------------------------------------------\n",
    "batch_size = 32\n",
    "\n",
    "#------------------------------------------\n",
    "# Load MNIST data\n",
    "#------------------------------------------\n",
    "\n",
    "# Load MNIST data (source)  as tensors\n",
    "mnist_train, mnist_test = tfds.load('mnist', split=['train', 'test'], as_supervised=True)\n",
    "\n",
    "# Round number of samples\n",
    "mnist_train = mnist_train.take((len(mnist_train) // batch_size) * batch_size) # round to facilitate division by batch size\n",
    "mnist_test = mnist_test.take((len(mnist_test) // batch_size) * batch_size) \n",
    "\n",
    "# Define a preprocessing function for MNIST data\n",
    "def preprocess_mnist_tensor(image, label):\n",
    "    \"\"\"Function to normalize MNIST images and convert labels to one-hot.\n",
    "    Input: image tensor, label tensor.\n",
    "    Output: Normalized image tensor, one-hot encoded label tensor.\"\"\"\n",
    "    image = tf.cast(image, tf.float32) / 255.0  # Normalize images\n",
    "    #image = tf.expand_dims(image, -1)  # Ensure image has 3 dimensions\n",
    "    #label = tf.one_hot(label, depth=10)  # One-hot encode labels\n",
    "    return image, label\n",
    "\n",
    "# Apply preprocessing to MNIST datasets\n",
    "mnist_train = mnist_train.map(preprocess_mnist_tensor)\n",
    "mnist_test = mnist_test.map(preprocess_mnist_tensor)\n",
    "\n",
    "# Extract images and labels\n",
    "Xs_train, Ys_train = extract_X_Y(mnist_train)\n",
    "Xs_test, Ys_test = extract_X_Y(mnist_test)\n",
    "\n",
    "#------------------------------------------\n",
    "# Load SVHN data\n",
    "#------------------------------------------\n",
    "\n",
    "# Load SVHN data as TensorFlow datasets\n",
    "svhn_train, svhn_test = tfds.load('svhn_cropped', split=['train', 'test'], as_supervised=True)\n",
    "\n",
    "# Round number of samples\n",
    "svhn_train = svhn_train.take((len(svhn_train) // batch_size) * batch_size) # round to facilitate division by batch size\n",
    "svhn_test = svhn_test.take((len(svhn_test) // batch_size) * batch_size) \n",
    "\n",
    "def preprocess_svhn_tensor(image, label):\n",
    "    \"\"\"Function to resize and convert a tensor image to grayscale, and normalize it.\n",
    "    Input: image tensor of size 32x32x3, label.\n",
    "    Output: Preprocessed image tensor of size 28x28x1, label.\"\"\"\n",
    "    image_resized = tf.image.resize(image, [28, 28])  # Resize to 28x28x3\n",
    "    image_gray = tf.image.rgb_to_grayscale(image_resized)  # Convert to grayscale\n",
    "    image_normalized = image_gray / 255.0  # Normalize\n",
    "    return image_normalized, label\n",
    "\n",
    "# Apply preprocessing to SVHN datasets\n",
    "svhn_train = svhn_train.map(preprocess_svhn_tensor)\n",
    "svhn_test = svhn_test.map(preprocess_svhn_tensor)\n",
    "\n",
    "# Extract images and labels\n",
    "Xt_train, Yt_train = extract_X_Y(svhn_train)\n",
    "Xt_test, Yt_test = extract_X_Y(svhn_test)\n",
    "\n",
    "# Convert Y labels to one-hot encoding \n",
    "Ys_train_cat = to_categorical(Ys_train, num_classes=10)\n",
    "Ys_test_cat = to_categorical(Ys_test, num_classes=10)\n",
    "Yt_train_cat = to_categorical(Yt_train, num_classes=10)\n",
    "Yt_test_cat = to_categorical(Yt_test, num_classes=10)\n",
    "\n",
    "\n",
    "# Check dimensions before training\n",
    "print('Xs_train _test:',Xs_train.shape,Xs_test.shape ,type(Xs_train))\n",
    "print('Ys_train_cat _test_cat:',Ys_train_cat.shape,Ys_test_cat.shape, type(Ys_train))\n",
    "print('Xt_train _test:',Xt_train.shape,Xt_test.shape, type(Xt_train)) \n",
    "print('Yt_train _test:',Yt_train_cat.shape,Yt_test_cat.shape, type(Yt_train))"
   ]
  },
  {
   "cell_type": "code",
   "execution_count": 43,
   "metadata": {},
   "outputs": [
    {
     "name": "stdout",
     "output_type": "stream",
     "text": [
      "labels: [4 1 0 7 8 2 6 3 9 5]\n",
      "weights_source: [10.3  8.9 10.1  9.6 10.3 10.1 10.1  9.8 10.1 11.1]\n",
      "weights_source dimensions: (10,)\n",
      "weights_source values: [10.270455   8.899436  10.130001   9.577015  10.254658  10.070494\n",
      " 10.13856    9.786331  10.085729  11.0680685]\n"
     ]
    }
   ],
   "source": [
    "#######################################################\n",
    "# CHECKING DISTRIBUTION OF LABELS IN SOURCE AND TARGET\n",
    "#######################################################\n",
    "\n",
    "#------------------------------------------\n",
    "# MNIST (source domain)\n",
    "#------------------------------------------\n",
    "\n",
    "# Calculate the unique labels and their counts\n",
    "labels, _, counts = tf.unique_with_counts(tf.reshape(Ys_train, [-1]))\n",
    "print('labels:', labels.numpy())\n",
    "# Calculate label frequencies as a float\n",
    "label_frequency_source = tf.cast(counts, tf.float32) / tf.size(Ys_train, out_type=tf.float32)\n",
    "\n",
    "# Calculate weights as the inverse of frequencies\n",
    "weights_source = 1.0 / label_frequency_source\n",
    "\n",
    "# Since TensorFlow operations do not return numpy arrays directly, use .numpy() to print\n",
    "print('weights_source:', np.round(weights_source.numpy(), 1))\n",
    "print('weights_source dimensions:', weights_source.shape)\n",
    "print('weights_source values:', weights_source.numpy())\n",
    "#------------------------------------------\n",
    "# SVHN (target domain) - must not be used at this stage\n",
    "#------------------------------------------\n"
   ]
  },
  {
   "cell_type": "code",
   "execution_count": 44,
   "metadata": {},
   "outputs": [
    {
     "name": "stdout",
     "output_type": "stream",
     "text": [
      "Shapes X_train: (133248, 28, 28, 1)\n",
      "Shapes Y_main_task (one hot encoded): (133248, 10)\n",
      "Shape Y_adversary_task (binary): (133248,)\n"
     ]
    }
   ],
   "source": [
    "##################################################################\n",
    "#     CREATING DATASETS FOR THE GANN (MNIST+SVHN)\n",
    "##################################################################\n",
    "\n",
    "import tensorflow as tf\n",
    "\n",
    "# Assuming Xs_train, Xt_train, Ys_train, and Yt_train are all TensorFlow tensors\n",
    "# If not, you can convert them like so:\n",
    "# Xs_train = tf.convert_to_tensor(Xs_train, dtype=tf.float32)\n",
    "# Xt_train = tf.convert_to_tensor(Xt_train, dtype=tf.float32)\n",
    "# Ys_train = tf.convert_to_tensor(Ys_train, dtype=tf.int32)\n",
    "# Yt_train = tf.convert_to_tensor(Yt_train, dtype=tf.int32)\n",
    "\n",
    "# 1. Concatenate MNIST and SVHN images\n",
    "X_train = tf.concat([Xs_train, Xt_train], axis=0)\n",
    "\n",
    "# 2. Create main task labels, with dummy labels for SVHN\n",
    "Y_main_task_mnist = tf.one_hot(Ys_train, depth=10)\n",
    "Y_main_task_svhn = tf.zeros([tf.shape(Yt_train)[0], 10], dtype=tf.float32)  # Dummy labels for SVHN\n",
    "Y_main_task = tf.concat([Y_main_task_mnist, Y_main_task_svhn], axis=0)\n",
    "\n",
    "# 3. Create adversary labels (0 for MNIST, 1 for SVHN)\n",
    "Y_adversary = tf.concat([tf.zeros(tf.shape(Ys_train)[0]), tf.ones(tf.shape(Yt_train)[0])], axis=0)\n",
    "\n",
    "# 4. Shuffle the combined dataset to ensure mixed samples of both domains\n",
    "# Create an index tensor and shuffle it\n",
    "indices = tf.range(start=0, limit=tf.shape(X_train)[0], dtype=tf.int32)\n",
    "shuffled_indices = tf.random.shuffle(indices)\n",
    "\n",
    "# Use the shuffled indices to reorder the dataset\n",
    "X_train = tf.gather(X_train, shuffled_indices)\n",
    "Y_main_task = tf.gather(Y_main_task, shuffled_indices)\n",
    "Y_adversary = tf.gather(Y_adversary, shuffled_indices)\n",
    "\n",
    "# Print shapes\n",
    "print('Shapes X_train:', X_train.shape)\n",
    "print('Shapes Y_main_task (one hot encoded):', Y_main_task.shape)\n",
    "print('Shape Y_adversary_task (binary):', Y_adversary.shape)"
   ]
  },
  {
   "cell_type": "code",
   "execution_count": 45,
   "metadata": {},
   "outputs": [],
   "source": [
    "################################################################\n",
    "#  CREATE BATCHED DATASETS ON X_train, Y_main_task, Y_adversary\n",
    "################################################################\n",
    "\n",
    "# Create a TensorFlow dataset from the tensors\n",
    "dataset = tf.data.Dataset.from_tensor_slices((X_train, {\"main_task_output\": Y_main_task, \"adversarial_output\": Y_adversary}))\n",
    "\n",
    "# Batch the dataset\n",
    "dataset = dataset.batch(batch_size)\n",
    "\n",
    "# Optional: Add .prefetch to improve performance by overlapping the preprocessing and model execution of a batch\n",
    "# For example, .prefetch(tf.data.AUTOTUNE) allows the dataset to automatically tune the prefetch buffer size\n",
    "dataset = dataset.prefetch(tf.data.AUTOTUNE)"
   ]
  },
  {
   "cell_type": "code",
   "execution_count": 46,
   "metadata": {},
   "outputs": [],
   "source": [
    "#####################################################\n",
    "# GRL - Gradient Reversal Layer\n",
    "# creation of a custom layer in keras\n",
    "#####################################################\n",
    "\n",
    "class GradientReversalLayer(Layer):\n",
    "    def __init__(self, alpha=1.0, **kwargs):\n",
    "        super().__init__(**kwargs)\n",
    "        self.alpha = alpha\n",
    "\n",
    "    def call(self, inputs, **kwargs):\n",
    "        @tf.custom_gradient\n",
    "        def grad_reverse(x):\n",
    "            identity = tf.identity(x)\n",
    "            \n",
    "            def custom_grad(dy):\n",
    "                return -dy * self.alpha\n",
    "            \n",
    "            return identity, custom_grad\n",
    "        \n",
    "        return grad_reverse(inputs)\n",
    "    \n",
    "import tensorflow as tf\n",
    "from tensorflow.keras.losses import CategoricalCrossentropy\n",
    "\n"
   ]
  },
  {
   "cell_type": "code",
   "execution_count": 47,
   "metadata": {},
   "outputs": [
    {
     "name": "stdout",
     "output_type": "stream",
     "text": [
      "% MNIST in sample (=adversarial target): 0.45\n",
      "Epoch 1/3\n",
      "4164/4164 [==============================] - 40s 9ms/step - loss: 3202134784.0000 - main_task_output_loss: 3202134272.0000 - adversarial_output_loss: 103.8874 - main_task_output_accuracy: 0.1029 - adversarial_output_auc_1: 0.8655\n",
      "Epoch 2/3\n",
      "4164/4164 [==============================] - 39s 9ms/step - loss: 44730658816.0000 - main_task_output_loss: 44730658816.0000 - adversarial_output_loss: 15.3998 - main_task_output_accuracy: 0.1044 - adversarial_output_auc_1: 0.5151\n",
      "Epoch 3/3\n",
      "4164/4164 [==============================] - 38s 9ms/step - loss: 182583066624.0000 - main_task_output_loss: 182583066624.0000 - adversarial_output_loss: 4.8061 - main_task_output_accuracy: 0.1031 - adversarial_output_auc_1: 0.5076\n"
     ]
    }
   ],
   "source": [
    "#################################################################\n",
    "#       TRAINING A SIMPLIST GAN (image size 28x28)\n",
    "# inspired by the classical LeNet-5 (LeCun et al., 1998)\n",
    "#################################################################\n",
    "\n",
    "#from keras.models import Sequential\n",
    "from keras.layers import Conv2D, MaxPooling2D, Flatten, Dense\n",
    "\n",
    "# define input dimension\n",
    "input_dim = (28,28,1)\n",
    "\n",
    "# Input layer\n",
    "input_layer = Input(shape=(input_dim))\n",
    "\n",
    "# Deep feature extractor = features f\n",
    "feature_extractor = Conv2D(32, (5, 5), activation='relu', input_shape=(28,28,1))(input_layer)  #size (24,24,32)\n",
    "feature_extractor = MaxPooling2D(pool_size=(2, 2), strides=(2, 2))(feature_extractor)          #size (12,12,32)\n",
    "feature_extractor = Conv2D(48, (5, 5), activation='relu')(feature_extractor)                   #size (8,8,48)\n",
    "feature_extractor = MaxPooling2D(pool_size=(2, 2), strides=(2, 2))(feature_extractor)          #size (4,4,48)\n",
    "extracted_features = Flatten()(feature_extractor)                                              #size 768\n",
    "\n",
    "# Label predictor (Main task classifier layers)\n",
    "# multi-class classification (10 classes from 0 to 9)\n",
    "main_task_hidden = Dense(100, activation='relu')(extracted_features)\n",
    "main_task_hidden = Dense(100, activation='relu')(main_task_hidden)\n",
    "main_task_output = Dense(10, activation='softmax', name='main_task_output')(main_task_hidden)\n",
    "\n",
    "# Domain classifier (Adversarial component layers)\n",
    "# binary classification (MNIST=0 and SVHN=1) \n",
    "gradient_reversal = GradientReversalLayer(alpha=0.0001)(extracted_features)\n",
    "adversary_hidden = Dense(100, activation='relu')(gradient_reversal)\n",
    "adversarial_output = Dense(1, activation='sigmoid', name='adversarial_output')(adversary_hidden)\n",
    "\n",
    "# Model\n",
    "model_GAN_28_28_1 = Model(inputs=input_layer, outputs=[main_task_output, adversarial_output])\n",
    "\n",
    "'''# Loss functions (sub-optimal)\n",
    "# dummy labels will pollute predictions of classe 0 and increase artificially loss on main tast\n",
    "main_task_loss = CategoricalCrossentropy()\n",
    "adversarial_loss = BinaryCrossentropy()\n",
    "'''\n",
    "# Compile the model\n",
    "model_GAN_28_28_1.compile(optimizer=Adam(learning_rate=0.001),\n",
    "              loss={'main_task_output': CategoricalCrossentropy(), # dummy labels will pollute predictions of classe 0 and increase artificially loss on main tast\n",
    "                    'adversarial_output': BinaryCrossentropy()},\n",
    "              #sample_weight={'main_task_output': weights_main_task, 'adversarial_output': np.ones(Y_adversary.shape[0])}, # weights for the SVHN samples not supposed to be known\n",
    "              metrics={'main_task_output': ['accuracy'], 'adversarial_output': [AUC()]})\n",
    "\n",
    "# % MNIST vs SVHN\n",
    "print('% MNIST in sample (=adversarial target):',round(1 - np.mean(Y_adversary.numpy()),2))\n",
    "\n",
    "# Train the model\n",
    "history_28_28_1 = model_GAN_28_28_1.fit(X_train, \n",
    "                                        {'main_task_output': Y_main_task, 'adversarial_output': Y_adversary}, \n",
    "                                        epochs=3)"
   ]
  },
  {
   "cell_type": "code",
   "execution_count": 48,
   "metadata": {},
   "outputs": [
    {
     "data": {
      "text/plain": [
       "'!!!!!!!!!!!!!!!!!!!!!!!!!!!!!!!!!!!!!!!!!!!!!!!!!!!!!!!!!!!!!!!!!!!!!!!!!!!!!!!!!!!!!!\\nTHE MODEL CANNOT LEARN PROPERPLY BECAUSE OF THE DUMMY LABELS IN THE ADVERSARIAL TASK\\n!!!!!!!!!!!!!!!!!!!!!!!!!!!!!!!!!!!!!!!!!!!!!!!!!!!!!!!!!!!!!!!!!!!!!!!!!!!!!!!!!!!!!!'"
      ]
     },
     "execution_count": 48,
     "metadata": {},
     "output_type": "execute_result"
    }
   ],
   "source": [
    "'''!!!!!!!!!!!!!!!!!!!!!!!!!!!!!!!!!!!!!!!!!!!!!!!!!!!!!!!!!!!!!!!!!!!!!!!!!!!!!!!!!!!!!!\n",
    "THE MODEL CANNOT LEARN PROPERPLY BECAUSE OF THE DUMMY LABELS IN THE ADVERSARIAL TASK\n",
    "!!!!!!!!!!!!!!!!!!!!!!!!!!!!!!!!!!!!!!!!!!!!!!!!!!!!!!!!!!!!!!!!!!!!!!!!!!!!!!!!!!!!!!'''"
   ]
  },
  {
   "cell_type": "code",
   "execution_count": 49,
   "metadata": {},
   "outputs": [
    {
     "name": "stdout",
     "output_type": "stream",
     "text": [
      "Source test dataset scores: [809280536576.0, 809280536576.0, 0.8021178841590881, 0.09815704822540283, 0.0]\n",
      "Accuracy on the main task (source): 9.82\n",
      "Accuracy on the adversarial task (source): 100.0\n",
      "Ys_test: [ 978 1133 1030 1009  980  888  958 1027  973 1008]\n"
     ]
    },
    {
     "data": {
      "image/png": "[encoded data removed]",
      "text/plain": [
       "<Figure size 700x600 with 2 Axes>"
      ]
     },
     "metadata": {},
     "output_type": "display_data"
    }
   ],
   "source": [
    "######################################################\n",
    "# EVALUATE THE MODEL ON THE SOURCE TEST DATASET\n",
    "######################################################\n",
    "\n",
    "# Create a combined dataset for testing\n",
    "Ys_test_adversary = np.zeros((Ys_test.shape[0], 1))  #(0 for MNIST and 1 for SVHN)\n",
    "Ys_test_combined = np.concatenate([Ys_test_cat, Ys_test_adversary], axis=1)\n",
    "\n",
    "\n",
    "# Make predictions on the source test set\n",
    "pred_Ys_test_scores = model_GAN_28_28_1.evaluate(Xs_test,  {'main_task_output': Ys_test_cat, 'adversarial_output': Ys_test_adversary}, verbose=0)\n",
    "print('Source test dataset scores:', pred_Ys_test_scores)\n",
    "\n",
    "#Predictions\n",
    "pred_Ys_test_probas, pred_Ys_test_probas_adversarial = model_GAN_28_28_1.predict(Xs_test, verbose=0)\n",
    "pred_Ys_test = tf.argmax(pred_Ys_test_probas, axis=1)\n",
    "pred_Ys_test_adversarial = tf.argmax(pred_Ys_test_probas_adversarial, axis=1)\n",
    "#print('probas pred_Ys_test[0]:',pred_Ys_test[0])\n",
    "#print('labels pred_Ys_test[:10]:',pred_Ys_test[:10],type(pred_Ys_test))\n",
    "\n",
    "# Accuracy scores main and adversarial tasks\n",
    "correct_pred_Ys_test = tf.cast(tf.equal(pred_Ys_test, Ys_test), tf.float32)\n",
    "accuracy_source_main_task = tf.reduce_mean(correct_pred_Ys_test).numpy()\n",
    "print('Accuracy on the main task (source):', round(accuracy_source_main_task*100, 2))\n",
    "\n",
    "correct_pred_Ys_test_adversarial = tf.cast( tf.equal(pred_Ys_test_adversarial, Ys_test_adversary)   , tf.float32)\n",
    "accuracy_source_adversarial = tf.reduce_mean(correct_pred_Ys_test_adversarial).numpy()\n",
    "print('Accuracy on the adversarial task (source):', round(accuracy_source_adversarial*100, 2))\n",
    "\n",
    "# Calculate the accuracy on the main task by label\n",
    "confusion_mtx_28_source = tf.math.confusion_matrix(pred_Ys_test, Ys_test)\n",
    "\n",
    "# print number of samples per label\n",
    "print('Ys_test:',np.bincount(Ys_test))\n",
    "\n",
    "# show confusion matrix\n",
    "plt.figure(figsize=(7, 6))\n",
    "sns.heatmap(confusion_mtx_28_source, annot=True, fmt='g', cmap='Blues')\n",
    "plt.title('Confusion Matrix SOURCE')\n",
    "plt.xlabel('True label')\n",
    "plt.ylabel('Predicted label')\n",
    "plt.show()"
   ]
  },
  {
   "cell_type": "markdown",
   "metadata": {},
   "source": [
    "**1/bis GANN (Keras) with combined label for custom loss function**\n",
    "---"
   ]
  },
  {
   "cell_type": "code",
   "execution_count": 17,
   "metadata": {},
   "outputs": [
    {
     "name": "stdout",
     "output_type": "stream",
     "text": [
      "Y_combined shape: (133248, 11)\n",
      "tf.Tensor(True, shape=(), dtype=bool)\n"
     ]
    }
   ],
   "source": [
    "#################################################################\n",
    "# Combining labels (Y_main_task) and domain labels (Y_adversary)\n",
    "# Y_adversary is added as an 11th dimension to Y_main_task (onehot encoded)\n",
    "#################################################################\n",
    "\n",
    "# Convert Y_adversary to the same type as Y_main_task for concatenation\n",
    "Y_adversary_float = tf.cast(Y_adversary, tf.float32)\n",
    "\n",
    "# Expand dimensions of Y_adversary to match Y_main_task\n",
    "Y_adversary_expanded = tf.expand_dims(Y_adversary_float, axis=-1)\n",
    "\n",
    "# Concatenate Y_main_task with Y_adversary along the last dimension\n",
    "Y_combined = tf.concat([Y_main_task, Y_adversary_expanded], axis=-1)\n",
    "print('Y_combined shape:', Y_combined.shape)\n",
    "print(tf.reduce_all(Y_combined[..., -1]==Y_adversary))\n",
    "\n",
    "# Create a composite dataset with X_train and Y_combined\n",
    "dataset = tf.data.Dataset.from_tensor_slices((X_train, Y_combined)).batch(batch_size)\n"
   ]
  },
  {
   "cell_type": "code",
   "execution_count": null,
   "metadata": {},
   "outputs": [],
   "source": []
  },
  {
   "cell_type": "code",
   "execution_count": 18,
   "metadata": {},
   "outputs": [],
   "source": [
    "#########################################################################\n",
    "# CREATING A CUSTOM LOSS FUNCTION FOR THE MAIN AND ADVERSARIAL TASKS\n",
    "#########################################################################\n",
    "\n",
    "def custom_main_task_loss(y_true, y_pred):\n",
    "    '''function unpacts the true labels for classification (10 first dimensions) \n",
    "    and the mask (11th dimension) from y_true which is the combined tensor of Y_main_task (label between 0 and 9)\n",
    "    and Y_adversary (0 for MNIST and 1 for SVHN)\n",
    "    Calculates the categorical crossentropy loss for the main task, considering only MNIST samples (where the mask is applied)'''\n",
    "    # Unpack the true labels and the mask from y_true\n",
    "    y_true_labels = y_true[..., :-1]  # All but the last dimension are true labels\n",
    "    mask = 1 - y_true[..., -1]  # Last dimension is the mask\n",
    "    \n",
    "    # Calculate the categorical crossentropy loss\n",
    "    cce = CategoricalCrossentropy(reduction=tf.keras.losses.Reduction.NONE)\n",
    "    unmasked_loss = cce(y_true_labels, y_pred)\n",
    "    \n",
    "    # Apply the mask\n",
    "    masked_loss = unmasked_loss * mask\n",
    "    \n",
    "    # Compute the mean loss, considering only MNIST samples (where the mask is applied)\n",
    "    return tf.reduce_sum(masked_loss) / tf.maximum(tf.reduce_sum(mask), 1)\n",
    "\n",
    "def custom_adversarial_loss(y_true, y_pred):\n",
    "    '''function unpacts the mask (11th dimension) from y_true which is the combined tensor of Y_main_task and Y_adversary\n",
    "    Calculates the binary crossentropy loss for the adversarial task on all values (MNIST and SVHN)\n",
    "    '''\n",
    "    # Extract the adversarial labels (mask) from y_true\n",
    "    adversarial_labels = y_true[..., -1]  # Last dimension after combining\n",
    "    \n",
    "    # Calculate the binary crossentropy loss for the adversarial task\n",
    "    bce = BinaryCrossentropy(reduction=tf.keras.losses.Reduction.AUTO)\n",
    "    loss = bce(adversarial_labels, y_pred)\n",
    "    \n",
    "    return loss\n"
   ]
  },
  {
   "cell_type": "code",
   "execution_count": 19,
   "metadata": {},
   "outputs": [
    {
     "name": "stdout",
     "output_type": "stream",
     "text": [
      "% MNIST in sample (=adversarial targey): 0.45\n",
      "Epoch 1/10\n",
      "4164/4164 [==============================] - 36s 8ms/step - loss: 0.1348 - main_task_output_loss: 0.1278 - adversarial_output_loss: 0.0070 - main_task_output_accuracy: 0.4328 - adversarial_output_accuracy: 0.4597\n",
      "Epoch 2/10\n",
      "4164/4164 [==============================] - 38s 9ms/step - loss: 0.0477 - main_task_output_loss: 0.0474 - adversarial_output_loss: 2.3580e-04 - main_task_output_accuracy: 0.4438 - adversarial_output_accuracy: 0.4593\n",
      "Epoch 3/10\n",
      "4164/4164 [==============================] - 34s 8ms/step - loss: 0.0343 - main_task_output_loss: 0.0340 - adversarial_output_loss: 2.9308e-04 - main_task_output_accuracy: 0.4458 - adversarial_output_accuracy: 0.4594\n",
      "Epoch 4/10\n",
      "4164/4164 [==============================] - 33s 8ms/step - loss: 0.0255 - main_task_output_loss: 0.0252 - adversarial_output_loss: 3.4227e-04 - main_task_output_accuracy: 0.4468 - adversarial_output_accuracy: 0.4594\n",
      "Epoch 5/10\n",
      "4164/4164 [==============================] - 32s 8ms/step - loss: 0.0226 - main_task_output_loss: 0.0224 - adversarial_output_loss: 1.5141e-04 - main_task_output_accuracy: 0.4473 - adversarial_output_accuracy: 0.4593\n",
      "Epoch 6/10\n",
      "4164/4164 [==============================] - 32s 8ms/step - loss: 0.0170 - main_task_output_loss: 0.0168 - adversarial_output_loss: 1.3276e-04 - main_task_output_accuracy: 0.4480 - adversarial_output_accuracy: 0.4593\n",
      "Epoch 7/10\n",
      "4164/4164 [==============================] - 38s 9ms/step - loss: 0.0177 - main_task_output_loss: 0.0175 - adversarial_output_loss: 2.6372e-04 - main_task_output_accuracy: 0.4481 - adversarial_output_accuracy: 0.4593\n",
      "Epoch 8/10\n",
      "4164/4164 [==============================] - 39s 9ms/step - loss: 0.0144 - main_task_output_loss: 0.0143 - adversarial_output_loss: 1.5563e-04 - main_task_output_accuracy: 0.4483 - adversarial_output_accuracy: 0.4593\n",
      "Epoch 9/10\n",
      "4164/4164 [==============================] - 41s 10ms/step - loss: 0.0130 - main_task_output_loss: 0.0129 - adversarial_output_loss: 7.1520e-05 - main_task_output_accuracy: 0.4485 - adversarial_output_accuracy: 0.4593\n",
      "Epoch 10/10\n",
      "4164/4164 [==============================] - 38s 9ms/step - loss: 0.0118 - main_task_output_loss: 0.0117 - adversarial_output_loss: 1.3294e-04 - main_task_output_accuracy: 0.4489 - adversarial_output_accuracy: 0.4593\n"
     ]
    }
   ],
   "source": [
    "#################################################################\n",
    "#       TRAINING A SIMPLIST GAN (image size 28x28)\n",
    "# inspired by the classical LeNet-5 (LeCun et al., 1998)\n",
    "#################################################################\n",
    "\n",
    "#from keras.models import Sequential\n",
    "from keras.layers import Conv2D, MaxPooling2D, Flatten, Dense\n",
    "from tensorflow.keras.callbacks import EarlyStopping\n",
    "\n",
    "# define input dimension\n",
    "input_dim = (28,28,1)\n",
    "\n",
    "# Input layer\n",
    "input_layer = Input(shape=(input_dim))\n",
    "\n",
    "# Deep feature extractor = features f\n",
    "feature_extractor = Conv2D(32, (5, 5), activation='relu', input_shape=(28,28,1))(input_layer)  #size (24,24,32)\n",
    "feature_extractor = MaxPooling2D(pool_size=(2, 2), strides=(2, 2))(feature_extractor)          #size (12,12,32)\n",
    "feature_extractor = Conv2D(48, (5, 5), activation='relu')(feature_extractor)                   #size (8,8,48)\n",
    "feature_extractor = MaxPooling2D(pool_size=(2, 2), strides=(2, 2))(feature_extractor)          #size (4,4,48)\n",
    "extracted_features = Flatten()(feature_extractor)                                              #size 768\n",
    "\n",
    "# Label predictor (Main task classifier layers)\n",
    "# multi-class classification (10 classes from 0 to 9)\n",
    "main_task_hidden = Dense(100, activation='relu')(extracted_features)\n",
    "main_task_hidden = Dense(100, activation='relu')(main_task_hidden)\n",
    "main_task_output = Dense(10, activation='softmax', name='main_task_output')(main_task_hidden)\n",
    "\n",
    "# Domain classifier (Adversarial component layers)\n",
    "# binary classification (MNIST=0 and SVHN=1) \n",
    "gradient_reversal = GradientReversalLayer(alpha=0.01)(extracted_features)\n",
    "adversary_hidden = Dense(100, activation='relu')(gradient_reversal)\n",
    "adversarial_output = Dense(1, activation='sigmoid', name='adversarial_output')(adversary_hidden)\n",
    "\n",
    "# Model\n",
    "model_GAN_custom_loss = Model(inputs=input_layer, outputs=[main_task_output, adversarial_output])\n",
    "\n",
    "# define early stopping callback\n",
    "early_stopping_callback = EarlyStopping(\n",
    "    monitor='loss',  # Monitor the validation loss (change it to 'loss' if you're not using a validation set)\n",
    "    patience=3,  # Number of epochs with no improvement after which training will be stopped\n",
    "    verbose=1,  # To display messages when the callback takes action\n",
    "    restore_best_weights=True  # Restores model weights from the epoch with the best value of the monitored metric\n",
    ")\n",
    "\n",
    "model_GAN_custom_loss.compile(optimizer='adam',\n",
    "                  loss={'main_task_output': custom_main_task_loss,  # Categorical crossentropy loss on MNIST only (masked)\n",
    "                        'adversarial_output': custom_adversarial_loss}, # Binary crossentropy loss on all samples\n",
    "                  metrics={'main_task_output': ['accuracy'], 'adversarial_output': ['accuracy']}, #AUC() not supported in custom loss functions\n",
    "                  #callbacks=[early_stopping_callback]\n",
    "                  )\n",
    "\n",
    "# % MNIST vs SVHN\n",
    "print('% MNIST in sample (=adversarial targey):',round(1 - np.mean(Y_combined[:, -1].numpy()),2))\n",
    "# Train the model\n",
    "history_GAN_custom_loss = model_GAN_custom_loss.fit(X_train, Y_combined, batch_size=batch_size, epochs=10)\n",
    "#RELOAD DATA DIRECTLY"
   ]
  },
  {
   "cell_type": "code",
   "execution_count": 20,
   "metadata": {},
   "outputs": [
    {
     "name": "stdout",
     "output_type": "stream",
     "text": [
      "INFO:tensorflow:Assets written to: model_GAN_custom_loss_10_epoches/assets\n"
     ]
    },
    {
     "name": "stderr",
     "output_type": "stream",
     "text": [
      "INFO:tensorflow:Assets written to: model_GAN_custom_loss_10_epoches/assets\n"
     ]
    }
   ],
   "source": [
    "# SAVE MODEL (IF NECESSARY)\n",
    "model_GAN_custom_loss.save('model_GAN_custom_loss_10_epoches')\n",
    "\n",
    "import pickle\n",
    "\n",
    "# Save the history object to a pickle file\n",
    "with open('history_GAN_custom_loss_10_epoches.pkl', 'wb') as file:\n",
    "    pickle.dump(history_GAN_custom_loss.history, file)\n",
    "    \n",
    "# to reload the model\n",
    "# model_GAN_custom_loss = tf.keras.models.load_model('model_GAN_custom_loss_10_epoches')\n"
   ]
  },
  {
   "cell_type": "code",
   "execution_count": 21,
   "metadata": {},
   "outputs": [
    {
     "data": {
      "image/png": "[encoded data removed]",
      "text/plain": [
       "<Figure size 1200x600 with 1 Axes>"
      ]
     },
     "metadata": {},
     "output_type": "display_data"
    }
   ],
   "source": [
    "# Plot the training history\n",
    "plt.figure(figsize=(12, 6))\n",
    "plt.plot(history_GAN_custom_loss.history['main_task_output_accuracy'], label='Main task accuracy')\n",
    "plt.plot(history_GAN_custom_loss.history['adversarial_output_accuracy'], label='Adversarial accuracy')\n",
    "plt.title('Training history')\n",
    "plt.xlabel('Epoch')\n",
    "plt.ylabel('Accuracy')\n",
    "plt.legend()\n",
    "plt.show()"
   ]
  },
  {
   "cell_type": "code",
   "execution_count": 51,
   "metadata": {},
   "outputs": [
    {
     "name": "stdout",
     "output_type": "stream",
     "text": [
      "Source test dataset scores: [0.050008125603199005, 0.050008125603199005, 0.0, 0.9897836446762085, 0.9090887904167175]\n",
      "Accuracy on the main task (source): 98.98\n",
      "Accuracy on the adversarial task (source): 100.0\n",
      "Ys_test: [ 978 1133 1030 1009  980  888  958 1027  973 1008]\n"
     ]
    },
    {
     "data": {
      "image/png": "[encoded data removed]",
      "text/plain": [
       "<Figure size 700x600 with 2 Axes>"
      ]
     },
     "metadata": {},
     "output_type": "display_data"
    }
   ],
   "source": [
    "# EVALUATE THE MODEL\n",
    "\n",
    "#--------------------------------------------------------------------\n",
    "# Evaluate the model on the SOURCE test set\n",
    "#--------------------------------------------------------------------\n",
    "\n",
    "# Create a combined dataset for testing\n",
    "Ys_test_adversary = np.zeros((Ys_test.shape[0], 1))  #(0 for MNIST and 1 for SVHN)\n",
    "Ys_test_combined = np.concatenate([Ys_test_cat, Ys_test_adversary], axis=1)\n",
    "\n",
    "# Make predictions on the source test set\n",
    "pred_Ys_test_scores = model_GAN_custom_loss.evaluate(Xs_test, Ys_test_combined, verbose=0)\n",
    "print('Source test dataset scores:', pred_Ys_test_scores)\n",
    "\n",
    "#Predictions\n",
    "pred_Ys_test_probas, pred_Ys_test_probas_adversarial = model_GAN_custom_loss.predict(Xs_test, verbose=0)\n",
    "pred_Ys_test = tf.argmax(pred_Ys_test_probas, axis=1)\n",
    "pred_Ys_test_adversarial = tf.argmax(pred_Ys_test_probas_adversarial, axis=1)\n",
    "#print('probas pred_Ys_test[0]:',pred_Ys_test[0])\n",
    "#print('labels pred_Ys_test[:10]:',pred_Ys_test[:10],type(pred_Ys_test))\n",
    "\n",
    "# Accuracy scores main and adversarial tasks\n",
    "correct_pred_Ys_test = tf.cast(tf.equal(pred_Ys_test, Ys_test), tf.float32)\n",
    "accuracy_source_main_task = tf.reduce_mean(correct_pred_Ys_test).numpy()\n",
    "print('Accuracy on the main task (source):', round(accuracy_source_main_task*100, 2))\n",
    "\n",
    "correct_pred_Ys_test_adversarial = tf.cast( tf.equal(pred_Ys_test_adversarial, Ys_test_adversary)   , tf.float32)\n",
    "accuracy_source_adversarial = tf.reduce_mean(correct_pred_Ys_test_adversarial).numpy()\n",
    "print('Accuracy on the adversarial task (source):', round(accuracy_source_adversarial*100, 2))\n",
    "\n",
    "# Calculate the accuracy on the main task by label\n",
    "confusion_mtx_source = tf.math.confusion_matrix(pred_Ys_test, Ys_test)\n",
    "\n",
    "# print number of samples per label\n",
    "print('Ys_test:',np.bincount(Ys_test))\n",
    "\n",
    "# show confusion matrix\n",
    "plt.figure(figsize=(7, 6))\n",
    "sns.heatmap(confusion_mtx_source, annot=True, fmt='g', cmap='Blues')\n",
    "plt.title('Confusion Matrix SOURCE')\n",
    "plt.xlabel('True label')\n",
    "plt.ylabel('Predicted label')\n",
    "plt.show()"
   ]
  },
  {
   "cell_type": "code",
   "execution_count": 23,
   "metadata": {},
   "outputs": [
    {
     "name": "stdout",
     "output_type": "stream",
     "text": [
      "Ys_test: [ 978 1133 1030 1009  980  888  958 1027  973 1008]\n"
     ]
    }
   ],
   "source": [
    "# print number of samples per label\n",
    "print('Ys_test:',np.bincount(Ys_test))"
   ]
  },
  {
   "cell_type": "code",
   "execution_count": 52,
   "metadata": {},
   "outputs": [
    {
     "name": "stdout",
     "output_type": "stream",
     "text": [
      "TARGET test dataset scores: [0.00254087895154953, 0.0, 0.00254087895154953, 0.1999923139810562, 0.18203851580619812]\n",
      "Accuracy on the main task (target): 20.0\n"
     ]
    },
    {
     "ename": "",
     "evalue": "",
     "output_type": "error",
     "traceback": [
      "\u001b[1;31mThe Kernel crashed while executing code in the current cell or a previous cell. \n",
      "\u001b[1;31mPlease review the code in the cell(s) to identify a possible cause of the failure. \n",
      "\u001b[1;31mClick <a href='https://aka.ms/vscodeJupyterKernelCrash'>here</a> for more info. \n",
      "\u001b[1;31mView Jupyter <a href='command:jupyter.viewOutput'>log</a> for further details."
     ]
    },
    {
     "ename": "",
     "evalue": "",
     "output_type": "error",
     "traceback": [
      "\u001b[1;31mCanceled future for execute_request message before replies were done"
     ]
    },
    {
     "ename": "",
     "evalue": "",
     "output_type": "error",
     "traceback": [
      "\u001b[1;31mCanceled future for execute_request message before replies were done. \n",
      "\u001b[1;31mView Jupyter <a href='command:jupyter.viewOutput'>log</a> for further details."
     ]
    }
   ],
   "source": [
    "# EVALUTE THE MODEL\n",
    "\n",
    "#--------------------------------------------------------------------\n",
    "# Evaluate the model on the TARGET test set\n",
    "#--------------------------------------------------------------------\n",
    "\n",
    "# Create a combined dataset for testing\n",
    "Yt_test_adversary = np.ones((Yt_test.shape[0], 1))  #(0 for MNIST and 1 for SVHN)\n",
    "Yt_test_combined = np.concatenate([Yt_test_cat, Yt_test_adversary], axis=1)\n",
    "\n",
    "# Make predictions on the source test set\n",
    "pred_Yt_test_scores = model_GAN_custom_loss.evaluate(Xt_test, Yt_test_combined, verbose=0)\n",
    "print('TARGET test dataset scores:', pred_Yt_test_scores)\n",
    "\n",
    "#Predictions\n",
    "pred_Yt_test_probas, pred_Yt_test_probas_adversarial = model_GAN_custom_loss.predict(Xt_test, verbose=0)\n",
    "pred_Yt_test = tf.argmax(pred_Yt_test_probas, axis=1)\n",
    "pred_Yt_test_adversarial = tf.argmax(pred_Yt_test_probas_adversarial, axis=1)\n",
    "#print('probas pred_Yt_test[0]:',pred_Yt_test[0])\n",
    "#print('labels pred_Yt_test[:10]:',pred_Yt_test[:10],type(pred_Yt_test))\n",
    "\n",
    "# Accuracy scores main and adversarial tasks\n",
    "correct_pred_Yt_test = tf.cast(tf.equal(pred_Yt_test, Yt_test), tf.float32)\n",
    "accuracy_target_main_task = tf.reduce_mean(correct_pred_Yt_test).numpy()\n",
    "print('Accuracy on the main task (target):', round(accuracy_target_main_task*100, 2))\n",
    "\n",
    "correct_pred_Yt_test_adversarial_bool = tf.equal(pred_Yt_test_adversarial, Yt_test_adversary)\n",
    "correct_pred_Yt_test_adversarial = tf.cast( correct_pred_Yt_test_adversarial_bool   , tf.float32)\n",
    "accuracy_target_adversarial = tf.reduce_mean(correct_pred_Yt_test_adversarial).numpy()\n",
    "print('Accuracy on the adversarial task (target):', round(accuracy_target_adversarial*100, 2))\n",
    "\n",
    "# Calculate the accuracy on the main task by label\n",
    "confusion_mtx_target = tf.math.confusion_matrix(pred_Yt_test, Yt_test)\n",
    "\n",
    "# print number of samples per label\n",
    "#print('Yt_test:',np.bincount(Yt_test))\n",
    "\n",
    "# show confusion matrix\n",
    "plt.figure(figsize=(7, 6))\n",
    "sns.heatmap(confusion_mtx_target, annot=True, fmt='g', cmap='Blues')\n",
    "plt.title('Confusion Matrix TARGET')\n",
    "plt.xlabel('True label')\n",
    "plt.ylabel('Predicted label')\n",
    "plt.show()"
   ]
  },
  {
   "cell_type": "code",
   "execution_count": null,
   "metadata": {},
   "outputs": [],
   "source": []
  },
  {
   "cell_type": "markdown",
   "metadata": {},
   "source": [
    "**2/ RETRAINING THE GANN WITH PSEUDO LABEL**\n",
    "---"
   ]
  },
  {
   "cell_type": "code",
   "execution_count": 25,
   "metadata": {},
   "outputs": [],
   "source": [
    "#get speudo labels on target dataset with high confidence level\n",
    "\n",
    "def generate_pseudo_labels(model, X_unlabeled, threshold=0.9):\n",
    "    # Predict probabilities\n",
    "    predictions = model.predict(X_unlabeled)[0]  # Assuming the main task output is the first output\n",
    "    \n",
    "    # Select predictions with max probability > threshold\n",
    "    max_probs = np.max(predictions, axis=1)\n",
    "    confident_indices = np.where(max_probs > threshold)[0]\n",
    "    \n",
    "    # Filter out confident predictions and corresponding labels\n",
    "    X_confident = X_unlabeled[confident_indices]\n",
    "    pseudo_labels = np.argmax(predictions[confident_indices], axis=1)\n",
    "    \n",
    "    return X_confident, pseudo_labels, confident_indices"
   ]
  },
  {
   "cell_type": "code",
   "execution_count": 26,
   "metadata": {},
   "outputs": [],
   "source": [
    "import tensorflow as tf\n",
    "import numpy as np\n",
    "\n",
    "def generate_pseudo_labels(model, X_unlabeled, threshold=0.9):\n",
    "    # Predict probabilities\n",
    "    predictions = model.predict(X_unlabeled)[0]  # Assuming the main task output is the first output\n",
    "    \n",
    "    # Select predictions with max probability > threshold\n",
    "    max_probs = np.max(predictions, axis=1)\n",
    "    confident_indices = np.where(max_probs > threshold)[0]\n",
    "    \n",
    "    # Convert confident_indices to a TensorFlow tensor\n",
    "    confident_indices_tf = tf.constant(confident_indices, dtype=tf.int32)\n",
    "    \n",
    "    # Use TensorFlow's tf.gather to select the confident samples and labels\n",
    "    X_confident = tf.gather(X_unlabeled, confident_indices_tf)\n",
    "    pseudo_labels = tf.gather(np.argmax(predictions, axis=1), confident_indices_tf)\n",
    "    \n",
    "    return X_confident, pseudo_labels, confident_indices\n"
   ]
  },
  {
   "cell_type": "code",
   "execution_count": 27,
   "metadata": {},
   "outputs": [
    {
     "name": "stdout",
     "output_type": "stream",
     "text": [
      "813/813 [==============================] - 5s 6ms/step\n",
      "Accuracy on confident target samples: 100.0\n"
     ]
    },
    {
     "data": {
      "image/png": "[encoded data removed]",
      "text/plain": [
       "<Figure size 700x600 with 2 Axes>"
      ]
     },
     "metadata": {},
     "output_type": "display_data"
    }
   ],
   "source": [
    "# Generate pseudo-labels for the target dataset\n",
    "Xt_confident, Yt_confident, Xt_confident_indices = generate_pseudo_labels(model_GAN_custom_loss, Xt_test,0.9)\n",
    "\n",
    "# Calculate the accuracy of the model on the confident target samples\n",
    "Yt_confident_cat = to_categorical(Yt_confident, num_classes=10)\n",
    "pred_Yt_confident_probas, _ = model_GAN_custom_loss.predict(Xt_confident, verbose=0)\n",
    "pred_Yt_confident = tf.argmax(pred_Yt_confident_probas, axis=1)\n",
    "correct_pred_Yt_confident = tf.cast(tf.equal(pred_Yt_confident, Yt_confident), tf.float32)\n",
    "accuracy_target_confident = tf.reduce_mean(correct_pred_Yt_confident).numpy()\n",
    "print('Accuracy on confident target samples:', round(accuracy_target_confident*100, 2))\n",
    "\n",
    "# Calculate the accuracy on the main task by label\n",
    "confusion_mtx_target_confident = tf.math.confusion_matrix(pred_Yt_confident, Yt_confident)\n",
    "\n",
    "# show confusion matrix\n",
    "plt.figure(figsize=(7, 6)) \n",
    "sns.heatmap(confusion_mtx_target_confident, annot=True, fmt='g', cmap='Blues')\n",
    "plt.title('Confusion Matrix TARGET confident samples')\n",
    "plt.xlabel('True label')\n",
    "plt.ylabel('Predicted label')\n",
    "plt.show()\n",
    "\n"
   ]
  },
  {
   "cell_type": "code",
   "execution_count": 28,
   "metadata": {},
   "outputs": [
    {
     "name": "stdout",
     "output_type": "stream",
     "text": [
      "(60014, 10)\n",
      "(60014, 1)\n"
     ]
    }
   ],
   "source": [
    "##############################################################################\n",
    "# GENERATING THE NEW X_Train with pseudo labels, Y_main_task and Y_adversary\n",
    "##############################################################################\n",
    "# 1. Concatenate MNIST and SVHN_confident images\n",
    "X_train_new = np.concatenate([Xs_train, Xt_confident], axis=0)\n",
    "\n",
    "# 2. Create main task labels, with pseudo labels for SVHN\n",
    "Y_main_task_new = np.concatenate([Ys_train_cat, Yt_confident_cat], axis=0)\n",
    "print(Y_main_task_new.shape)\n",
    "\n",
    "# 3. Create adversary labels (0 for MNIST, 1 for SVHN)\n",
    "Ys_train_adversary = np.zeros((Ys_train.shape[0], 1))  # 0 for MNIST\n",
    "Yt_confident_adversary = np.ones((Yt_confident.shape[0], 1))  # 1 for SVHN\n",
    "Y_adversary_new = np.concatenate([Ys_train_adversary, Yt_confident_adversary], axis=0)\n",
    "print(Y_adversary_new.shape)\n",
    "\n",
    "# 4. Shuffle the combined dataset to ensure mixed samples of both domains\n",
    "# Create an index tensor and shuffle it\n",
    "indices_new = tf.range(start=0, limit=tf.shape(X_train_new)[0], dtype=tf.int32)\n",
    "shuffled_indices_new = tf.random.shuffle(indices_new)\n",
    "\n",
    "# 5. Use the shuffled indices to reorder the dataset\n",
    "X_train_new = tf.gather(X_train_new, shuffled_indices_new)\n",
    "Y_main_task_new = tf.gather(Y_main_task_new, shuffled_indices_new)\n",
    "Y_adversary_new = tf.gather(Y_adversary_new, shuffled_indices_new)\n"
   ]
  },
  {
   "cell_type": "code",
   "execution_count": 29,
   "metadata": {},
   "outputs": [],
   "source": [
    "################################################################\n",
    "#  CREATE BATCHED DATASETS ON X_train, Y_main_task, Y_adversary\n",
    "################################################################\n",
    "\n",
    "# Create a TensorFlow dataset from the tensors\n",
    "dataset_new = tf.data.Dataset.from_tensor_slices((X_train_new, {\"main_task_output\": Y_main_task_new, \"adversarial_output\": Y_adversary_new}))\n",
    "\n",
    "# Batch the dataset\n",
    "dataset_new = dataset_new.batch(batch_size)\n",
    "\n",
    "# Optional: Add .prefetch to improve performance by overlapping the preprocessing and model execution of a batch\n",
    "# For example, .prefetch(tf.data.AUTOTUNE) allows the dataset to automatically tune the prefetch buffer size\n",
    "dataset_new = dataset_new.prefetch(tf.data.AUTOTUNE)"
   ]
  },
  {
   "cell_type": "code",
   "execution_count": 30,
   "metadata": {},
   "outputs": [
    {
     "name": "stdout",
     "output_type": "stream",
     "text": [
      "% MNIST in sample (=adversarial target): 1.0\n",
      "Epoch 1/3\n",
      "1876/1876 [==============================] - 31s 9ms/step - loss: 0.1433 - main_task_output_loss: 0.1396 - adversarial_output_loss: 0.0037 - main_task_output_accuracy: 0.9570 - adversarial_output_accuracy: 0.9993\n",
      "Epoch 2/3\n",
      "1876/1876 [==============================] - 18s 10ms/step - loss: 0.0484 - main_task_output_loss: 0.0474 - adversarial_output_loss: 0.0010 - main_task_output_accuracy: 0.9852 - adversarial_output_accuracy: 0.9998\n",
      "Epoch 3/3\n",
      "1876/1876 [==============================] - 20s 10ms/step - loss: 0.0324 - main_task_output_loss: 0.0317 - adversarial_output_loss: 7.1123e-04 - main_task_output_accuracy: 0.9899 - adversarial_output_accuracy: 0.9998\n"
     ]
    }
   ],
   "source": [
    "#################################################################\n",
    "# TRAINING A SIMPLIST GAN (image size 28x28) ON PSEUDO LABELS\n",
    "# inspired by the classical LeNet-5 (LeCun et al., 1998)\n",
    "#################################################################\n",
    "\n",
    "# define input dimension\n",
    "input_dim = (28,28,1)\n",
    "\n",
    "# Input layer\n",
    "input_layer = Input(shape=(input_dim))\n",
    "\n",
    "# Deep feature extractor = features f\n",
    "feature_extractor = Conv2D(32, (5, 5), activation='relu', input_shape=(28,28,1))(input_layer)  #size (24,24,32)\n",
    "feature_extractor = MaxPooling2D(pool_size=(2, 2), strides=(2, 2))(feature_extractor)          #size (12,12,32)\n",
    "feature_extractor = Conv2D(48, (5, 5), activation='relu')(feature_extractor)                   #size (8,8,48)\n",
    "feature_extractor = MaxPooling2D(pool_size=(2, 2), strides=(2, 2))(feature_extractor)          #size (4,4,48)\n",
    "extracted_features = Flatten()(feature_extractor)                                              #size 768\n",
    "\n",
    "# Label predictor (Main task classifier layers)\n",
    "# multi-class classification (10 classes from 0 to 9)\n",
    "main_task_hidden = Dense(100, activation='relu')(extracted_features)\n",
    "main_task_hidden = Dense(100, activation='relu')(main_task_hidden)\n",
    "main_task_output = Dense(10, activation='softmax', name='main_task_output')(main_task_hidden)\n",
    "\n",
    "# Domain classifier (Adversarial component layers)\n",
    "# binary classification (MNIST=0 and SVHN=1) \n",
    "gradient_reversal = GradientReversalLayer(alpha=0.01)(extracted_features)\n",
    "adversary_hidden = Dense(100, activation='relu')(gradient_reversal)\n",
    "adversarial_output = Dense(1, activation='sigmoid', name='adversarial_output')(adversary_hidden)\n",
    "\n",
    "# Model\n",
    "model_GAN_pseudo_label_1 = Model(inputs=input_layer, outputs=[main_task_output, adversarial_output])\n",
    "\n",
    "model_GAN_pseudo_label_1.compile(optimizer='adam',\n",
    "                  loss={'main_task_output': CategoricalCrossentropy(),  # Categorical crossentropy loss on all samples (MNIST pseudo labelled SVHN)\n",
    "                        'adversarial_output': BinaryCrossentropy()}, # Binary crossentropy loss on all samples\n",
    "                  metrics={'main_task_output': ['accuracy'], 'adversarial_output': ['accuracy']} #AUC() not supported in custom loss functions\n",
    "                  )\n",
    "\n",
    "# % MNIST vs SVHN\n",
    "print('% MNIST in sample (=adversarial target):',round(1 - np.mean(Y_adversary_new.numpy()),2))\n",
    "# Train the model\n",
    "history_pseudo_label_1 = model_GAN_pseudo_label_1.fit(dataset_new, batch_size=batch_size, epochs=3)"
   ]
  },
  {
   "cell_type": "code",
   "execution_count": 31,
   "metadata": {},
   "outputs": [
    {
     "name": "stdout",
     "output_type": "stream",
     "text": [
      "Source test dataset scores: [0.04207521677017212, 0.042021606117486954, 5.3624713473254815e-05, 0.9870793223381042, 1.0]\n",
      "Accuracy on the main task (source): 98.71\n",
      "Accuracy on the adversarial task (source): 100.0\n",
      "Ys_test: [ 978 1133 1030 1009  980  888  958 1027  973 1008]\n"
     ]
    },
    {
     "data": {
      "image/png": "[encoded data removed]",
      "text/plain": [
       "<Figure size 700x600 with 2 Axes>"
      ]
     },
     "metadata": {},
     "output_type": "display_data"
    }
   ],
   "source": [
    "######################################################\n",
    "# EVALUATE THE MODEL ON THE SOURCE TEST DATASET\n",
    "######################################################\n",
    "\n",
    "# Make predictions on the source test set\n",
    "pred_Ys_test_scores = model_GAN_pseudo_label_1.evaluate(Xs_test,  {'main_task_output': Ys_test_cat, 'adversarial_output': Ys_test_adversary}, verbose=0)\n",
    "print('Source test dataset scores:', pred_Ys_test_scores)\n",
    "\n",
    "#Predictions\n",
    "pred_Ys_test_probas, pred_Ys_test_probas_adversarial = model_GAN_pseudo_label_1.predict(Xs_test, verbose=0)\n",
    "pred_Ys_test = tf.argmax(pred_Ys_test_probas, axis=1)\n",
    "pred_Ys_test_adversarial = tf.argmax(pred_Ys_test_probas_adversarial, axis=1)\n",
    "#print('probas pred_Ys_test[0]:',pred_Ys_test[0])\n",
    "#print('labels pred_Ys_test[:10]:',pred_Ys_test[:10],type(pred_Ys_test))\n",
    "\n",
    "# Accuracy scores main and adversarial tasks\n",
    "correct_pred_Ys_test = tf.cast(tf.equal(pred_Ys_test, Ys_test), tf.float32)\n",
    "accuracy_source_main_task = tf.reduce_mean(correct_pred_Ys_test).numpy()\n",
    "print('Accuracy on the main task (source):', round(accuracy_source_main_task*100, 2))\n",
    "\n",
    "correct_pred_Ys_test_adversarial = tf.cast( tf.equal(pred_Ys_test_adversarial, Ys_test_adversary)   , tf.float32)\n",
    "accuracy_source_adversarial = tf.reduce_mean(correct_pred_Ys_test_adversarial).numpy()\n",
    "print('Accuracy on the adversarial task (source):', round(accuracy_source_adversarial*100, 2))\n",
    "\n",
    "# Calculate the accuracy on the main task by label\n",
    "confusion_mtx_pseudo_label_1_source = tf.math.confusion_matrix(pred_Ys_test, Ys_test)\n",
    "\n",
    "# print number of samples per label\n",
    "print('Ys_test:',np.bincount(Ys_test))\n",
    "\n",
    "# show confusion matrix\n",
    "plt.figure(figsize=(7, 6))\n",
    "sns.heatmap(confusion_mtx_pseudo_label_1_source, annot=True, fmt='g', cmap='Blues')\n",
    "plt.title('Confusion Matrix SOURCE')\n",
    "plt.xlabel('True label')\n",
    "plt.ylabel('Predicted label')\n",
    "plt.show()"
   ]
  },
  {
   "cell_type": "code",
   "execution_count": 32,
   "metadata": {},
   "outputs": [
    {
     "name": "stdout",
     "output_type": "stream",
     "text": [
      "Target test dataset scores: [3.103430986404419, 2.0396244525909424, 1.063807487487793, 0.31938037276268005, 0.05435116961598396]\n",
      "Accuracy on the main task (target): 31.94\n"
     ]
    },
    {
     "name": "stderr",
     "output_type": "stream",
     "text": [
      "2024-04-01 11:07:14.141523: W external/local_tsl/tsl/framework/bfc_allocator.cc:485] Allocator (mklcpu) ran out of memory trying to allocate 2.52GiB (rounded to 2707329024)requested by op Cast\n",
      "If the cause is memory fragmentation maybe the environment variable 'TF_GPU_ALLOCATOR=cuda_malloc_async' will improve the situation. \n",
      "Current allocation summary follows.\n",
      "Current allocation summary follows.\n",
      "2024-04-01 11:07:14.142595: I external/local_tsl/tsl/framework/bfc_allocator.cc:1039] BFCAllocator dump for mklcpu\n",
      "2024-04-01 11:07:14.142614: I external/local_tsl/tsl/framework/bfc_allocator.cc:1046] Bin (256): \tTotal Chunks: 0, Chunks in use: 0. 0B allocated for chunks. 0B in use in bin. 0B client-requested in use in bin.\n",
      "2024-04-01 11:07:14.142618: I external/local_tsl/tsl/framework/bfc_allocator.cc:1046] Bin (512): \tTotal Chunks: 0, Chunks in use: 0. 0B allocated for chunks. 0B in use in bin. 0B client-requested in use in bin.\n",
      "2024-04-01 11:07:14.142621: I external/local_tsl/tsl/framework/bfc_allocator.cc:1046] Bin (1024): \tTotal Chunks: 0, Chunks in use: 0. 0B allocated for chunks. 0B in use in bin. 0B client-requested in use in bin.\n",
      "2024-04-01 11:07:14.142624: I external/local_tsl/tsl/framework/bfc_allocator.cc:1046] Bin (2048): \tTotal Chunks: 0, Chunks in use: 0. 0B allocated for chunks. 0B in use in bin. 0B client-requested in use in bin.\n",
      "2024-04-01 11:07:14.142642: I external/local_tsl/tsl/framework/bfc_allocator.cc:1046] Bin (4096): \tTotal Chunks: 0, Chunks in use: 0. 0B allocated for chunks. 0B in use in bin. 0B client-requested in use in bin.\n",
      "2024-04-01 11:07:14.142647: I external/local_tsl/tsl/framework/bfc_allocator.cc:1046] Bin (8192): \tTotal Chunks: 0, Chunks in use: 0. 0B allocated for chunks. 0B in use in bin. 0B client-requested in use in bin.\n",
      "2024-04-01 11:07:14.142651: I external/local_tsl/tsl/framework/bfc_allocator.cc:1046] Bin (16384): \tTotal Chunks: 0, Chunks in use: 0. 0B allocated for chunks. 0B in use in bin. 0B client-requested in use in bin.\n",
      "2024-04-01 11:07:14.142655: I external/local_tsl/tsl/framework/bfc_allocator.cc:1046] Bin (32768): \tTotal Chunks: 0, Chunks in use: 0. 0B allocated for chunks. 0B in use in bin. 0B client-requested in use in bin.\n",
      "2024-04-01 11:07:14.142660: I external/local_tsl/tsl/framework/bfc_allocator.cc:1046] Bin (65536): \tTotal Chunks: 0, Chunks in use: 0. 0B allocated for chunks. 0B in use in bin. 0B client-requested in use in bin.\n",
      "2024-04-01 11:07:14.142676: I external/local_tsl/tsl/framework/bfc_allocator.cc:1046] Bin (131072): \tTotal Chunks: 0, Chunks in use: 0. 0B allocated for chunks. 0B in use in bin. 0B client-requested in use in bin.\n",
      "2024-04-01 11:07:14.142685: I external/local_tsl/tsl/framework/bfc_allocator.cc:1046] Bin (262144): \tTotal Chunks: 20, Chunks in use: 19. 6.31MiB allocated for chunks. 6.02MiB in use in bin. 5.90MiB client-requested in use in bin.\n",
      "2024-04-01 11:07:14.142690: I external/local_tsl/tsl/framework/bfc_allocator.cc:1046] Bin (524288): \tTotal Chunks: 7, Chunks in use: 5. 3.77MiB allocated for chunks. 2.65MiB in use in bin. 2.38MiB client-requested in use in bin.\n",
      "2024-04-01 11:07:14.142693: I external/local_tsl/tsl/framework/bfc_allocator.cc:1046] Bin (1048576): \tTotal Chunks: 1, Chunks in use: 0. 1.02MiB allocated for chunks. 0B in use in bin. 0B client-requested in use in bin.\n",
      "2024-04-01 11:07:14.142696: I external/local_tsl/tsl/framework/bfc_allocator.cc:1046] Bin (2097152): \tTotal Chunks: 4, Chunks in use: 3. 9.66MiB allocated for chunks. 7.37MiB in use in bin. 7.37MiB client-requested in use in bin.\n",
      "2024-04-01 11:07:14.142700: I external/local_tsl/tsl/framework/bfc_allocator.cc:1046] Bin (4194304): \tTotal Chunks: 2, Chunks in use: 2. 10.67MiB allocated for chunks. 10.67MiB in use in bin. 10.67MiB client-requested in use in bin.\n",
      "2024-04-01 11:07:14.142702: I external/local_tsl/tsl/framework/bfc_allocator.cc:1046] Bin (8388608): \tTotal Chunks: 0, Chunks in use: 0. 0B allocated for chunks. 0B in use in bin. 0B client-requested in use in bin.\n",
      "2024-04-01 11:07:14.142706: I external/local_tsl/tsl/framework/bfc_allocator.cc:1046] Bin (16777216): \tTotal Chunks: 1, Chunks in use: 1. 29.86MiB allocated for chunks. 29.86MiB in use in bin. 29.86MiB client-requested in use in bin.\n",
      "2024-04-01 11:07:14.142708: I external/local_tsl/tsl/framework/bfc_allocator.cc:1046] Bin (33554432): \tTotal Chunks: 1, Chunks in use: 0. 45.85MiB allocated for chunks. 0B in use in bin. 0B client-requested in use in bin.\n",
      "2024-04-01 11:07:14.142711: I external/local_tsl/tsl/framework/bfc_allocator.cc:1046] Bin (67108864): \tTotal Chunks: 0, Chunks in use: 0. 0B allocated for chunks. 0B in use in bin. 0B client-requested in use in bin.\n",
      "2024-04-01 11:07:14.142716: I external/local_tsl/tsl/framework/bfc_allocator.cc:1046] Bin (134217728): \tTotal Chunks: 5, Chunks in use: 3. 887.84MiB allocated for chunks. 507.79MiB in use in bin. 436.73MiB client-requested in use in bin.\n",
      "2024-04-01 11:07:14.142719: I external/local_tsl/tsl/framework/bfc_allocator.cc:1046] Bin (268435456): \tTotal Chunks: 7, Chunks in use: 5. 6.64GiB allocated for chunks. 4.18GiB in use in bin. 4.13GiB client-requested in use in bin.\n",
      "2024-04-01 11:07:14.142723: I external/local_tsl/tsl/framework/bfc_allocator.cc:1062] Bin for 2.52GiB was 256.00MiB, Chunk State: \n",
      "2024-04-01 11:07:14.142769: I external/local_tsl/tsl/framework/bfc_allocator.cc:1068]   Size: 470.68MiB | Requested Size: 645.48MiB | in_use: 0 | bin_num: 20, prev:   Size: 645.48MiB | Requested Size: 645.48MiB | in_use: 1 | bin_num: -1\n",
      "2024-04-01 11:07:14.142777: I external/local_tsl/tsl/framework/bfc_allocator.cc:1068]   Size: 2.00GiB | Requested Size: 380.25MiB | in_use: 0 | bin_num: 20\n",
      "2024-04-01 11:07:14.142781: I external/local_tsl/tsl/framework/bfc_allocator.cc:1075] Next region of size 3877707776\n",
      "2024-04-01 11:07:14.142786: I external/local_tsl/tsl/framework/bfc_allocator.cc:1095] InUse at 7f723ed74040 of size 2707329024 next 36\n",
      "2024-04-01 11:07:14.142793: I external/local_tsl/tsl/framework/bfc_allocator.cc:1095] InUse at 7f72e035d040 of size 676832256 next 43\n",
      "2024-04-01 11:07:14.142795: I external/local_tsl/tsl/framework/bfc_allocator.cc:1095] Free  at 7f73088d7440 of size 493546496 next 18446744073709551615\n",
      "2024-04-01 11:07:14.142797: I external/local_tsl/tsl/framework/bfc_allocator.cc:1075] Next region of size 2147483648\n",
      "2024-04-01 11:07:14.142800: I external/local_tsl/tsl/framework/bfc_allocator.cc:1095] Free  at 7f7325f87040 of size 2147483648 next 18446744073709551615\n",
      "2024-04-01 11:07:14.142802: I external/local_tsl/tsl/framework/bfc_allocator.cc:1075] Next region of size 1073741824\n",
      "2024-04-01 11:07:14.142804: I external/local_tsl/tsl/framework/bfc_allocator.cc:1095] InUse at 7f73a5f88040 of size 417865728 next 10\n",
      "2024-04-01 11:07:14.142807: I external/local_tsl/tsl/framework/bfc_allocator.cc:1095] InUse at 7f73bee0a040 of size 417865728 next 16\n",
      "2024-04-01 11:07:14.142809: I external/local_tsl/tsl/framework/bfc_allocator.cc:1095] Free  at 7f73d7c8c040 of size 238010368 next 18446744073709551615\n",
      "2024-04-01 11:07:14.142811: I external/local_tsl/tsl/framework/bfc_allocator.cc:1075] Next region of size 536870912\n",
      "2024-04-01 11:07:14.142813: I external/local_tsl/tsl/framework/bfc_allocator.cc:1095] InUse at 7f73e5f89040 of size 188160000 next 5\n",
      "2024-04-01 11:07:14.142816: I external/local_tsl/tsl/framework/bfc_allocator.cc:1095] InUse at 7f73f12fa840 of size 188204032 next 45\n",
      "2024-04-01 11:07:14.142818: I external/local_tsl/tsl/framework/bfc_allocator.cc:1095] Free  at 7f73fc676c40 of size 160506880 next 18446744073709551615\n",
      "2024-04-01 11:07:14.142820: I external/local_tsl/tsl/framework/bfc_allocator.cc:1075] Next region of size 268435456\n",
      "2024-04-01 11:07:14.142822: I external/local_tsl/tsl/framework/bfc_allocator.cc:1095] InUse at 7f742a186040 of size 586240 next 2\n",
      "2024-04-01 11:07:14.142824: I external/local_tsl/tsl/framework/bfc_allocator.cc:1095] InUse at 7f742a215240 of size 585984 next 8\n",
      "2024-04-01 11:07:14.142827: I external/local_tsl/tsl/framework/bfc_allocator.cc:1095] InUse at 7f742a2a4340 of size 2400000 next 11\n",
      "2024-04-01 11:07:14.142829: I external/local_tsl/tsl/framework/bfc_allocator.cc:1095] InUse at 7f742a4ee240 of size 2929920 next 12\n",
      "2024-04-01 11:07:14.142833: I external/local_tsl/tsl/framework/bfc_allocator.cc:1095] InUse at 7f742a7b9740 of size 532992 next 18\n",
      "2024-04-01 11:07:14.142836: I external/local_tsl/tsl/framework/bfc_allocator.cc:1095] InUse at 7f742a83b940 of size 307200 next 22\n",
      "2024-04-01 11:07:14.142838: I external/local_tsl/tsl/framework/bfc_allocator.cc:1095] InUse at 7f742a886940 of size 307200 next 19\n",
      "2024-04-01 11:07:14.142840: I external/local_tsl/tsl/framework/bfc_allocator.cc:1095] InUse at 7f742a8d1940 of size 307200 next 41\n",
      "2024-04-01 11:07:14.142842: I external/local_tsl/tsl/framework/bfc_allocator.cc:1095] InUse at 7f742a91c940 of size 307200 next 46\n",
      "2024-04-01 11:07:14.142844: I external/local_tsl/tsl/framework/bfc_allocator.cc:1095] Free  at 7f742a967940 of size 1065984 next 13\n",
      "2024-04-01 11:07:14.142846: I external/local_tsl/tsl/framework/bfc_allocator.cc:1095] InUse at 7f742aa6bd40 of size 307200 next 23\n",
      "2024-04-01 11:07:14.142848: I external/local_tsl/tsl/framework/bfc_allocator.cc:1095] InUse at 7f742aab6d40 of size 307200 next 24\n",
      "2024-04-01 11:07:14.142850: I external/local_tsl/tsl/framework/bfc_allocator.cc:1095] InUse at 7f742ab01d40 of size 307200 next 34\n",
      "2024-04-01 11:07:14.142852: I external/local_tsl/tsl/framework/bfc_allocator.cc:1095] Free  at 7f742ab4cd40 of size 614400 next 29\n",
      "2024-04-01 11:07:14.142854: I external/local_tsl/tsl/framework/bfc_allocator.cc:1095] InUse at 7f742abe2d40 of size 537600 next 28\n",
      "2024-04-01 11:07:14.142856: I external/local_tsl/tsl/framework/bfc_allocator.cc:1095] InUse at 7f742ac66140 of size 307200 next 26\n",
      "2024-04-01 11:07:14.142858: I external/local_tsl/tsl/framework/bfc_allocator.cc:1095] Free  at 7f742acb1140 of size 307200 next 47\n",
      "2024-04-01 11:07:14.142861: I external/local_tsl/tsl/framework/bfc_allocator.cc:1095] InUse at 7f742acfc140 of size 347136 next 15\n",
      "2024-04-01 11:07:14.142863: I external/local_tsl/tsl/framework/bfc_allocator.cc:1095] InUse at 7f742ad50d40 of size 532992 next 14\n",
      "2024-04-01 11:07:14.142865: I external/local_tsl/tsl/framework/bfc_allocator.cc:1095] InUse at 7f742add2f40 of size 5329920 next 17\n",
      "2024-04-01 11:07:14.142867: I external/local_tsl/tsl/framework/bfc_allocator.cc:1095] InUse at 7f742b2e8340 of size 307200 next 25\n",
      "2024-04-01 11:07:14.142869: I external/local_tsl/tsl/framework/bfc_allocator.cc:1095] InUse at 7f742b333340 of size 307200 next 30\n",
      "2024-04-01 11:07:14.142871: I external/local_tsl/tsl/framework/bfc_allocator.cc:1095] InUse at 7f742b37e340 of size 307200 next 33\n",
      "2024-04-01 11:07:14.142873: I external/local_tsl/tsl/framework/bfc_allocator.cc:1095] InUse at 7f742b3c9340 of size 393216 next 38\n",
      "2024-04-01 11:07:14.142875: I external/local_tsl/tsl/framework/bfc_allocator.cc:1095] InUse at 7f742b429340 of size 307200 next 27\n",
      "2024-04-01 11:07:14.142877: I external/local_tsl/tsl/framework/bfc_allocator.cc:1095] InUse at 7f742b474340 of size 307200 next 44\n",
      "2024-04-01 11:07:14.142879: I external/local_tsl/tsl/framework/bfc_allocator.cc:1095] InUse at 7f742b4bf340 of size 307200 next 35\n",
      "2024-04-01 11:07:14.142881: I external/local_tsl/tsl/framework/bfc_allocator.cc:1095] InUse at 7f742b50a340 of size 480256 next 20\n",
      "2024-04-01 11:07:14.142883: I external/local_tsl/tsl/framework/bfc_allocator.cc:1095] Free  at 7f742b57f740 of size 564224 next 31\n",
      "2024-04-01 11:07:14.142885: I external/local_tsl/tsl/framework/bfc_allocator.cc:1095] InUse at 7f742b609340 of size 307200 next 37\n",
      "2024-04-01 11:07:14.142887: I external/local_tsl/tsl/framework/bfc_allocator.cc:1095] InUse at 7f742b654340 of size 5862912 next 21\n",
      "2024-04-01 11:07:14.142908: I external/local_tsl/tsl/framework/bfc_allocator.cc:1095] Free  at 7f742bbeb940 of size 2400768 next 40\n",
      "2024-04-01 11:07:14.142912: I external/local_tsl/tsl/framework/bfc_allocator.cc:1095] InUse at 7f742be35b40 of size 2400768 next 32\n",
      "2024-04-01 11:07:14.142915: I external/local_tsl/tsl/framework/bfc_allocator.cc:1095] Free  at 7f742c07fd40 of size 48076032 next 3\n",
      "2024-04-01 11:07:14.142917: I external/local_tsl/tsl/framework/bfc_allocator.cc:1095] InUse at 7f742ee59240 of size 480000 next 6\n",
      "2024-04-01 11:07:14.142919: I external/local_tsl/tsl/framework/bfc_allocator.cc:1095] InUse at 7f742eece540 of size 31309824 next 7\n",
      "2024-04-01 11:07:14.142922: I external/local_tsl/tsl/framework/bfc_allocator.cc:1095] InUse at 7f7430caa540 of size 156089088 next 18446744073709551615\n",
      "2024-04-01 11:07:14.142925: I external/local_tsl/tsl/framework/bfc_allocator.cc:1075] Next region of size 268435456\n",
      "2024-04-01 11:07:14.142927: I external/local_tsl/tsl/framework/bfc_allocator.cc:1095] InUse at 7f743a187040 of size 268435456 next 18446744073709551615\n",
      "2024-04-01 11:07:14.142930: I external/local_tsl/tsl/framework/bfc_allocator.cc:1100]      Summary of in-use Chunks by size: \n",
      "2024-04-01 11:07:14.142933: I external/local_tsl/tsl/framework/bfc_allocator.cc:1103] 15 Chunks of size 307200 totalling 4.39MiB\n",
      "2024-04-01 11:07:14.142937: I external/local_tsl/tsl/framework/bfc_allocator.cc:1103] 1 Chunks of size 347136 totalling 339.0KiB\n",
      "2024-04-01 11:07:14.142939: I external/local_tsl/tsl/framework/bfc_allocator.cc:1103] 1 Chunks of size 393216 totalling 384.0KiB\n",
      "2024-04-01 11:07:14.142942: I external/local_tsl/tsl/framework/bfc_allocator.cc:1103] 1 Chunks of size 480000 totalling 468.8KiB\n",
      "2024-04-01 11:07:14.142944: I external/local_tsl/tsl/framework/bfc_allocator.cc:1103] 1 Chunks of size 480256 totalling 469.0KiB\n",
      "2024-04-01 11:07:14.142947: I external/local_tsl/tsl/framework/bfc_allocator.cc:1103] 2 Chunks of size 532992 totalling 1.02MiB\n",
      "2024-04-01 11:07:14.142949: I external/local_tsl/tsl/framework/bfc_allocator.cc:1103] 1 Chunks of size 537600 totalling 525.0KiB\n",
      "2024-04-01 11:07:14.142952: I external/local_tsl/tsl/framework/bfc_allocator.cc:1103] 1 Chunks of size 585984 totalling 572.2KiB\n",
      "2024-04-01 11:07:14.142954: I external/local_tsl/tsl/framework/bfc_allocator.cc:1103] 1 Chunks of size 586240 totalling 572.5KiB\n",
      "2024-04-01 11:07:14.142956: I external/local_tsl/tsl/framework/bfc_allocator.cc:1103] 1 Chunks of size 2400000 totalling 2.29MiB\n",
      "2024-04-01 11:07:14.142959: I external/local_tsl/tsl/framework/bfc_allocator.cc:1103] 1 Chunks of size 2400768 totalling 2.29MiB\n",
      "2024-04-01 11:07:14.142961: I external/local_tsl/tsl/framework/bfc_allocator.cc:1103] 1 Chunks of size 2929920 totalling 2.79MiB\n",
      "2024-04-01 11:07:14.142963: I external/local_tsl/tsl/framework/bfc_allocator.cc:1103] 1 Chunks of size 5329920 totalling 5.08MiB\n",
      "2024-04-01 11:07:14.142966: I external/local_tsl/tsl/framework/bfc_allocator.cc:1103] 1 Chunks of size 5862912 totalling 5.59MiB\n",
      "2024-04-01 11:07:14.142968: I external/local_tsl/tsl/framework/bfc_allocator.cc:1103] 1 Chunks of size 31309824 totalling 29.86MiB\n",
      "2024-04-01 11:07:14.142970: I external/local_tsl/tsl/framework/bfc_allocator.cc:1103] 1 Chunks of size 156089088 totalling 148.86MiB\n",
      "2024-04-01 11:07:14.142973: I external/local_tsl/tsl/framework/bfc_allocator.cc:1103] 1 Chunks of size 188160000 totalling 179.44MiB\n",
      "2024-04-01 11:07:14.142975: I external/local_tsl/tsl/framework/bfc_allocator.cc:1103] 1 Chunks of size 188204032 totalling 179.49MiB\n",
      "2024-04-01 11:07:14.142978: I external/local_tsl/tsl/framework/bfc_allocator.cc:1103] 1 Chunks of size 268435456 totalling 256.00MiB\n",
      "2024-04-01 11:07:14.142980: I external/local_tsl/tsl/framework/bfc_allocator.cc:1103] 2 Chunks of size 417865728 totalling 797.02MiB\n",
      "2024-04-01 11:07:14.142983: I external/local_tsl/tsl/framework/bfc_allocator.cc:1103] 1 Chunks of size 676832256 totalling 645.48MiB\n",
      "2024-04-01 11:07:14.142985: I external/local_tsl/tsl/framework/bfc_allocator.cc:1103] 1 Chunks of size 2707329024 totalling 2.52GiB\n",
      "2024-04-01 11:07:14.142987: I external/local_tsl/tsl/framework/bfc_allocator.cc:1107] Sum Total of in-use chunks: 4.73GiB\n",
      "2024-04-01 11:07:14.143006: I external/local_tsl/tsl/framework/bfc_allocator.cc:1109] Total bytes in pool: 8172675072 memory_limit_: 8172675072 available bytes: 0 curr_region_allocation_bytes_: 8589934592\n",
      "2024-04-01 11:07:14.143031: I external/local_tsl/tsl/framework/bfc_allocator.cc:1114] Stats: \n",
      "Limit:                      8172675072\n",
      "InUse:                      5080099072\n",
      "MaxInUse:                   5080099072\n",
      "NumAllocs:                      970726\n",
      "MaxAllocSize:               2707329024\n",
      "Reserved:                            0\n",
      "PeakReserved:                        0\n",
      "LargestFreeBlock:                    0\n",
      "\n",
      "2024-04-01 11:07:14.143043: W external/local_tsl/tsl/framework/bfc_allocator.cc:497] ******************************************_______________________________***********__******_*******\n",
      "2024-04-01 11:07:14.143115: W tensorflow/core/framework/op_kernel.cc:1839] OP_REQUIRES failed at cast_op.cc:110 : RESOURCE_EXHAUSTED: OOM when allocating tensor with shape[26016,26016] and type float on /job:localhost/replica:0/task:0/device:CPU:0 by allocator mklcpu\n"
     ]
    },
    {
     "ename": "ResourceExhaustedError",
     "evalue": "{{function_node __wrapped__Cast_device_/job:localhost/replica:0/task:0/device:CPU:0}} OOM when allocating tensor with shape[26016,26016] and type float on /job:localhost/replica:0/task:0/device:CPU:0 by allocator mklcpu [Op:Cast] name: ",
     "output_type": "error",
     "traceback": [
      "\u001b[0;31m---------------------------------------------------------------------------\u001b[0m",
      "\u001b[0;31mResourceExhaustedError\u001b[0m                    Traceback (most recent call last)",
      "Cell \u001b[0;32mIn[32], line 19\u001b[0m\n\u001b[1;32m     16\u001b[0m accuracy_target_main_task \u001b[38;5;241m=\u001b[39m tf\u001b[38;5;241m.\u001b[39mreduce_mean(correct_pred_Yt_test)\u001b[38;5;241m.\u001b[39mnumpy()\n\u001b[1;32m     17\u001b[0m \u001b[38;5;28mprint\u001b[39m(\u001b[38;5;124m'\u001b[39m\u001b[38;5;124mAccuracy on the main task (target):\u001b[39m\u001b[38;5;124m'\u001b[39m, \u001b[38;5;28mround\u001b[39m(accuracy_target_main_task\u001b[38;5;241m*\u001b[39m\u001b[38;5;241m100\u001b[39m, \u001b[38;5;241m2\u001b[39m))\n\u001b[0;32m---> 19\u001b[0m correct_pred_Yt_test_adversarial \u001b[38;5;241m=\u001b[39m \u001b[43mtf\u001b[49m\u001b[38;5;241;43m.\u001b[39;49m\u001b[43mcast\u001b[49m\u001b[43m(\u001b[49m\u001b[43m \u001b[49m\u001b[43mtf\u001b[49m\u001b[38;5;241;43m.\u001b[39;49m\u001b[43mequal\u001b[49m\u001b[43m(\u001b[49m\u001b[43mpred_Yt_test_adversarial\u001b[49m\u001b[43m,\u001b[49m\u001b[43m \u001b[49m\u001b[43mYt_test_adversary\u001b[49m\u001b[43m)\u001b[49m\u001b[43m   \u001b[49m\u001b[43m,\u001b[49m\u001b[43m \u001b[49m\u001b[43mtf\u001b[49m\u001b[38;5;241;43m.\u001b[39;49m\u001b[43mfloat32\u001b[49m\u001b[43m)\u001b[49m\n\u001b[1;32m     20\u001b[0m accuracy_target_adversarial \u001b[38;5;241m=\u001b[39m tf\u001b[38;5;241m.\u001b[39mreduce_mean(correct_pred_Yt_test_adversarial)\u001b[38;5;241m.\u001b[39mnumpy()\n\u001b[1;32m     21\u001b[0m \u001b[38;5;28mprint\u001b[39m(\u001b[38;5;124m'\u001b[39m\u001b[38;5;124mAccuracy on the adversarial task (target):\u001b[39m\u001b[38;5;124m'\u001b[39m, \u001b[38;5;28mround\u001b[39m(accuracy_target_adversarial\u001b[38;5;241m*\u001b[39m\u001b[38;5;241m100\u001b[39m, \u001b[38;5;241m2\u001b[39m))\n",
      "File \u001b[0;32m~/myenv/lib/python3.10/site-packages/tensorflow/python/util/traceback_utils.py:153\u001b[0m, in \u001b[0;36mfilter_traceback.<locals>.error_handler\u001b[0;34m(*args, **kwargs)\u001b[0m\n\u001b[1;32m    151\u001b[0m \u001b[38;5;28;01mexcept\u001b[39;00m \u001b[38;5;167;01mException\u001b[39;00m \u001b[38;5;28;01mas\u001b[39;00m e:\n\u001b[1;32m    152\u001b[0m   filtered_tb \u001b[38;5;241m=\u001b[39m _process_traceback_frames(e\u001b[38;5;241m.\u001b[39m__traceback__)\n\u001b[0;32m--> 153\u001b[0m   \u001b[38;5;28;01mraise\u001b[39;00m e\u001b[38;5;241m.\u001b[39mwith_traceback(filtered_tb) \u001b[38;5;28;01mfrom\u001b[39;00m \u001b[38;5;28;01mNone\u001b[39;00m\n\u001b[1;32m    154\u001b[0m \u001b[38;5;28;01mfinally\u001b[39;00m:\n\u001b[1;32m    155\u001b[0m   \u001b[38;5;28;01mdel\u001b[39;00m filtered_tb\n",
      "File \u001b[0;32m~/myenv/lib/python3.10/site-packages/tensorflow/python/framework/ops.py:5883\u001b[0m, in \u001b[0;36mraise_from_not_ok_status\u001b[0;34m(e, name)\u001b[0m\n\u001b[1;32m   5881\u001b[0m \u001b[38;5;28;01mdef\u001b[39;00m \u001b[38;5;21mraise_from_not_ok_status\u001b[39m(e, name) \u001b[38;5;241m-\u001b[39m\u001b[38;5;241m>\u001b[39m NoReturn:\n\u001b[1;32m   5882\u001b[0m   e\u001b[38;5;241m.\u001b[39mmessage \u001b[38;5;241m+\u001b[39m\u001b[38;5;241m=\u001b[39m (\u001b[38;5;124m\"\u001b[39m\u001b[38;5;124m name: \u001b[39m\u001b[38;5;124m\"\u001b[39m \u001b[38;5;241m+\u001b[39m \u001b[38;5;28mstr\u001b[39m(name \u001b[38;5;28;01mif\u001b[39;00m name \u001b[38;5;129;01mis\u001b[39;00m \u001b[38;5;129;01mnot\u001b[39;00m \u001b[38;5;28;01mNone\u001b[39;00m \u001b[38;5;28;01melse\u001b[39;00m \u001b[38;5;124m\"\u001b[39m\u001b[38;5;124m\"\u001b[39m))\n\u001b[0;32m-> 5883\u001b[0m   \u001b[38;5;28;01mraise\u001b[39;00m core\u001b[38;5;241m.\u001b[39m_status_to_exception(e) \u001b[38;5;28;01mfrom\u001b[39;00m \u001b[38;5;28;01mNone\u001b[39;00m\n",
      "\u001b[0;31mResourceExhaustedError\u001b[0m: {{function_node __wrapped__Cast_device_/job:localhost/replica:0/task:0/device:CPU:0}} OOM when allocating tensor with shape[26016,26016] and type float on /job:localhost/replica:0/task:0/device:CPU:0 by allocator mklcpu [Op:Cast] name: "
     ]
    }
   ],
   "source": [
    "######################################################\n",
    "# EVALUATE THE MODEL ON THE SOURCE TEST DATASET\n",
    "######################################################\n",
    "\n",
    "# Make predictions on the source test set\n",
    "pred_Yt_test_scores = model_GAN_pseudo_label_1.evaluate(Xt_test,  {'main_task_output': Yt_test_cat, 'adversarial_output': Yt_test_adversary}, verbose=0)\n",
    "print('Target test dataset scores:', pred_Yt_test_scores)\n",
    "\n",
    "#Predictions\n",
    "pred_Yt_test_probas, pred_Yt_test_probas_adversarial = model_GAN_pseudo_label_1.predict(Xt_test, verbose=0)\n",
    "pred_Yt_test = tf.argmax(pred_Yt_test_probas, axis=1)\n",
    "pred_Yt_test_adversarial = tf.argmax(pred_Yt_test_probas_adversarial, axis=1)\n",
    "\n",
    "# Accuracy scores main and adversarial tasks\n",
    "correct_pred_Yt_test = tf.cast(tf.equal(pred_Yt_test, Yt_test), tf.float32)\n",
    "accuracy_target_main_task = tf.reduce_mean(correct_pred_Yt_test).numpy()\n",
    "print('Accuracy on the main task (target):', round(accuracy_target_main_task*100, 2))\n",
    "\n",
    "correct_pred_Yt_test_adversarial = tf.cast( tf.equal(pred_Yt_test_adversarial, Yt_test_adversary)   , tf.float32)\n",
    "accuracy_target_adversarial = tf.reduce_mean(correct_pred_Yt_test_adversarial).numpy()\n",
    "print('Accuracy on the adversarial task (target):', round(accuracy_target_adversarial*100, 2))\n",
    "\n",
    "# Calculate the accuracy on the main task by label\n",
    "confusion_mtx_pseudo_label_1_target = tf.math.confusion_matrix(pred_Yt_test, Yt_test)\n",
    "\n",
    "# print number of samples per label\n",
    "print('Yt_test:',np.bincount(Yt_test))\n",
    "\n",
    "# show confusion matrix\n",
    "plt.figure(figsize=(7, 6))\n",
    "sns.heatmap(confusion_mtx_pseudo_label_1_target, annot=True, fmt='g', cmap='Blues')\n",
    "plt.title('Confusion Matrix TARGET')\n",
    "plt.xlabel('True label')\n",
    "plt.ylabel('Predicted label')\n",
    "plt.show()"
   ]
  },
  {
   "cell_type": "markdown",
   "metadata": {},
   "source": [
    "**3/ ADVERSARIAL NEURAL NETWORK (KERAS), upscaling MNIST to SVHN dimension (32,32,3)**\n",
    "---\n",
    "\"Domain-Adversarial Training of Neural Networks\" Ganin & al, Journal of Machine Learning Research 17 (2016) 1-35"
   ]
  },
  {
   "cell_type": "code",
   "execution_count": null,
   "metadata": {},
   "outputs": [],
   "source": [
    "# DUPLICATING MNIST IMAGES TO RGB (3 channels) AND RESIZING TO 32x32\n",
    "\n",
    "def adapt_mnist_images(images):\n",
    "    # Resize images from 28x28 to 32x32\n",
    "    images_resized = tf.image.resize(images, [32, 32])\n",
    "    # Convert grayscale images to RGB by repeating the channel 3 times\n",
    "    images_rgb = tf.repeat(images_resized, 3, axis=-1)\n",
    "    return images_rgb\n",
    "\n",
    "# Assuming mnist_train_images and mnist_test_images are loaded MNIST datasets and normalized\n",
    "# Example: Adapt the MNIST training images\n",
    "mnist_train_images_adapted = adapt_mnist_images(mnist_train_images)\n",
    "mnist_test_images_adapted = adapt_mnist_images(mnist_test_images)\n",
    "\n",
    "print(\"Adapted MNIST Train Images Shape:\", mnist_train_images_adapted.shape)\n",
    "print(\"Adapted MNIST Test Images Shape:\", mnist_test_images_adapted.shape)\n"
   ]
  },
  {
   "cell_type": "code",
   "execution_count": null,
   "metadata": {},
   "outputs": [],
   "source": []
  },
  {
   "cell_type": "code",
   "execution_count": null,
   "metadata": {},
   "outputs": [],
   "source": [
    "import matplotlib.pyplot as plt\n",
    "from tensorflow.keras.datasets import mnist\n",
    "\n",
    "# Load the MNIST dataset\n",
    "(x_train, y_train), (x_test, y_test) = mnist.load_data()\n",
    "\n",
    "# Create a figure and axes for the grid\n",
    "fig, axes = plt.subplots(3, 10, figsize=(10, 3))\n",
    "\n",
    "# Iterate over the first 30 images\n",
    "for i, ax in enumerate(axes.flat):\n",
    "    # Display the image\n",
    "    ax.imshow(x_train[i], cmap='gray')\n",
    "    ax.axis('off')\n",
    "    # Set the title as the label\n",
    "    ax.set_title(str(y_train[i]))\n",
    "\n",
    "# Adjust the spacing between subplots\n",
    "plt.tight_layout()\n",
    "\n",
    "# Show the grid of images\n",
    "plt.show()\n"
   ]
  },
  {
   "cell_type": "code",
   "execution_count": null,
   "metadata": {},
   "outputs": [],
   "source": [
    "import torch\n",
    "import matplotlib.pyplot as plt\n",
    "from torchvision import datasets, transforms\n",
    "\n",
    "# Define the transformation to apply to the images\n",
    "transform = transforms.Compose([\n",
    "    transforms.ToTensor(),\n",
    "    transforms.Normalize((0.5,), (0.5,))\n",
    "])\n",
    "\n",
    "# Load the MNIST dataset\n",
    "mnist_data = datasets.MNIST(root='./data', train=True, download=True, transform=transform)\n",
    "\n",
    "# Create a figure and axes for the grid\n",
    "fig, axes = plt.subplots(3, 10, figsize=(10, 3))\n",
    "\n",
    "# Iterate over the first 30 images\n",
    "for i, ax in enumerate(axes.flat):\n",
    "    # Get the image and label\n",
    "    image, label = mnist_data[i]\n",
    "    # Display the image\n",
    "    ax.imshow(image.squeeze(), cmap='gray')\n",
    "    ax.axis('off')\n",
    "    # Set the title as the label\n",
    "    ax.set_title(str(label.item()))\n",
    "\n",
    "# Adjust the spacing between subplots\n",
    "plt.tight_layout()\n",
    "\n",
    "# Show the grid of images\n",
    "plt.show()\n"
   ]
  },
  {
   "cell_type": "code",
   "execution_count": null,
   "metadata": {},
   "outputs": [],
   "source": []
  }
 ],
 "metadata": {
  "kernelspec": {
   "display_name": "Python WSL (myenv)",
   "language": "python",
   "name": "myenv"
  },
  "language_info": {
   "codemirror_mode": {
    "name": "ipython",
    "version": 3
   },
   "file_extension": ".py",
   "mimetype": "text/x-python",
   "name": "python",
   "nbconvert_exporter": "python",
   "pygments_lexer": "ipython3",
   "version": "3.10.12"
  }
 },
 "nbformat": 4,
 "nbformat_minor": 2
}
